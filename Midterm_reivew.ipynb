{
 "cells": [
  {
   "cell_type": "code",
   "execution_count": null,
   "id": "14fff74f",
   "metadata": {},
   "outputs": [],
   "source": [
    "#1번 문제\n",
    "\n",
    "# 첫째 줄: 정수의 개수 N 입력\n",
    "N = int(input())\n",
    "\n",
    "# 둘째 줄: N개의 정수를 입력받아 리스트로 저장\n",
    "numbers = list(map(int, input().split()))\n",
    "\n",
    "# N개의 정수의 합을 계산하여 출력\n",
    "print(sum(numbers))\n"
   ]
  },
  {
   "cell_type": "code",
   "execution_count": null,
   "id": "08adfc20",
   "metadata": {},
   "outputs": [],
   "source": [
    "#2번 문제\n",
    "\n",
    "# 학생 수 입력\n",
    "N = int(input())\n",
    "\n",
    "# 학생 정보를 담을 리스트\n",
    "students = []\n",
    "\n",
    "# N명의 학생 이름과 성적을 입력받아 리스트에 저장\n",
    "for _ in range(N):\n",
    "    name, score = input().split()\n",
    "    score = int(score)\n",
    "    students.append((score, name))  # 성적을 먼저 저장 (정렬을 쉽게 하기 위해)\n",
    "\n",
    "# 성적 내림차순, 이름 오름차순으로 정렬\n",
    "students.sort(key=lambda x: (-x[0], x[1]))\n",
    "\n",
    "# 가장 높은 성적을 가진 학생의 이름 출력\n",
    "print(students[0][1])\n"
   ]
  },
  {
   "cell_type": "code",
   "execution_count": null,
   "id": "b76366c1",
   "metadata": {},
   "outputs": [],
   "source": [
    "#3번 문제\n",
    "\n",
    "# 입력 받기\n",
    "EN, MA = map(int, input(\"영어와 수학 점수를 입력하세요: \").split())\n",
    "\n",
    "# 점수 범위 확인 (선택적으로 예외 처리 가능)\n",
    "if 0 <= EN <= 100 and 0 <= MA <= 100:\n",
    "    if EN < 40:\n",
    "        print(\"불합격_영어과락\")\n",
    "    elif MA < 40:\n",
    "        print(\"불합격_수학과락\")\n",
    "    elif EN + MA > 100:\n",
    "        print(\"합격입니다!\")\n",
    "    else:\n",
    "        print(\"불합격_총점미달\")\n",
    "else:\n",
    "    print(\"입력 오류: 점수는 0 이상 100 이하이어야 합니다.\")\n"
   ]
  }
 ],
 "metadata": {
  "language_info": {
   "name": "python"
  }
 },
 "nbformat": 4,
 "nbformat_minor": 5
}
