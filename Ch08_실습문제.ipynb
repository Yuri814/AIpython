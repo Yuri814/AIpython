{
  "nbformat": 4,
  "nbformat_minor": 0,
  "metadata": {
    "colab": {
      "provenance": []
    },
    "kernelspec": {
      "name": "python3",
      "display_name": "Python 3"
    },
    "language_info": {
      "name": "python"
    }
  },
  "cells": [
    {
      "cell_type": "markdown",
      "source": [
        "# **08장 연습문제**"
      ],
      "metadata": {
        "id": "JfAFTdc6AQKL"
      }
    },
    {
      "cell_type": "markdown",
      "source": [
        "1번"
      ],
      "metadata": {
        "id": "MDJSn-2x51Hr"
      }
    },
    {
      "cell_type": "code",
      "execution_count": null,
      "metadata": {
        "id": "XDguFQTM5uRi"
      },
      "outputs": [],
      "source": [
        "import matplotlib.pyplot as plt\n",
        "\n",
        "year = [2006, 2009, 2012, 2015, 2018]\n",
        "kor = [547, 546, 554, 524, 526]\n",
        "#선그래프\n",
        "#그래프 출력"
      ]
    },
    {
      "cell_type": "code",
      "source": [
        "import matplotlib.pyplot as plt\n",
        "\n",
        "year = ['2006', '2009', '2012', '2015', '2018']\n",
        "kor = [547, 546, 554, 524, 526]\n",
        "#막대그래프\n",
        "plt.show()"
      ],
      "metadata": {
        "id": "jMDVbxg_D5uT"
      },
      "execution_count": null,
      "outputs": []
    },
    {
      "cell_type": "code",
      "source": [
        "import matplotlib.pyplot as plt\n",
        "\n",
        "kor = [547, 546, 554, 524, 526]\n",
        "usa = [474, 487, 481, 470, 478]\n",
        "#산점도그래프\n",
        "plt.show()"
      ],
      "metadata": {
        "id": "jp5ijd19EA83"
      },
      "execution_count": null,
      "outputs": []
    },
    {
      "cell_type": "code",
      "source": [
        "import matplotlib.pyplot as plt\n",
        "\n",
        "score = [547,546,554,524,526,474,487,481,470,478,523,529,536,532,527]\n",
        "#히스토그램\n",
        "plt.show()"
      ],
      "metadata": {
        "id": "sI6AQ78NEFrx"
      },
      "execution_count": null,
      "outputs": []
    },
    {
      "cell_type": "code",
      "source": [
        "import matplotlib.pyplot as plt\n",
        "\n",
        "x = [2009, 2012, 2015]\n",
        "y = [529, 536, 532]\n",
        "plt.plot(x, y)\n",
        "plt.show()"
      ],
      "metadata": {
        "id": "3ngplv6S53xj"
      },
      "execution_count": null,
      "outputs": []
    },
    {
      "cell_type": "code",
      "source": [
        "import matplotlib.pyplot as plt\n",
        "\n",
        "x = [2006, 2009, 2012, 2015]\n",
        "y = [523, 529, 536, 532]\n",
        "plt.plot(x, y)\n",
        "plt.show()"
      ],
      "metadata": {
        "id": "Pv3wE3tLFuWb"
      },
      "execution_count": null,
      "outputs": []
    },
    {
      "cell_type": "code",
      "source": [
        "import matplotlib.pyplot as plt\n",
        "\n",
        "x = ['a', 'b', 'c']\n",
        "y = [7, 5, 4]\n",
        "plt.bar(x, y)\n",
        "plt.show()"
      ],
      "metadata": {
        "id": "e7V82ZouGG-y"
      },
      "execution_count": null,
      "outputs": []
    },
    {
      "cell_type": "code",
      "source": [
        "import matplotlib.pyplot as plt\n",
        "\n",
        "year = [2006, 2009, 2012, 2015, 2018]\n",
        "kor = [547, 546, 554, 524, 526]\n",
        "plt.plot(year, kor)\n",
        "plt.show()"
      ],
      "metadata": {
        "id": "nsBs6xJJ54pR"
      },
      "execution_count": null,
      "outputs": []
    },
    {
      "cell_type": "code",
      "source": [
        "import matplotlib.pyplot as plt\n",
        "\n",
        "year = [2006, 2009, 2012, 2015, 2018]\n",
        "kor = [547, 546, 554, 524, 526]\n",
        "usa = [474, 487, 481, 470, 478]\n",
        "# year kor 그래프\n",
        "# year usa 그래프\n",
        "plt.show()"
      ],
      "metadata": {
        "id": "hliws66455if"
      },
      "execution_count": null,
      "outputs": []
    },
    {
      "cell_type": "code",
      "source": [
        "import matplotlib.pyplot as plt\n",
        "\n",
        "year = [2006, 2009, 2012, 2015, 2018]\n",
        "kor = [547, 546, 554, 524, 526]\n",
        "usa = [474, 487, 481, 470, 478]\n",
        "jpn = [523, 529, 536, 532, 527]\n",
        "\n",
        "# 그래프가 가로와 세로 크기를 각각 5인치와 3인치 크기 설정\n",
        "# year 데이터를 x축으로, kor 데이터를 y축으로 하여 빨간색 점선으로 선 그래프를 그리고 범례에 'Korea'라고 표시\n",
        "plt.plot(year, usa, 'b:', ) #범례에 'Korea'라고 표시\n",
        "plt.plot(year, jpn, 'g-', label='Japan')\n",
        "plt.ylim(400, 600)  # y축 범위 설정\n",
        "# 그래프에 범례를 추가\n",
        "# 그래프 제목을 'Mathematics performance'로 설정합니다.\n",
        "plt.xlabel('year')\n",
        "plt.ylabel('score')\n",
        "plt.show()"
      ],
      "metadata": {
        "id": "YfdPK8Nz57Yl"
      },
      "execution_count": null,
      "outputs": []
    },
    {
      "cell_type": "code",
      "source": [
        "import matplotlib.pyplot as plt\n",
        "\n",
        "notebook = {'g○○':150,'t○○':100,'m○○':160,'s○○':170}\n",
        "\n",
        "plt.figure(figsize=(5,3))\n",
        "# 막대 그래프의 x축은 딕셔너리의 키(제품이름)를 사용하고, 막대 그래프의 Y축은 딕셔너리의 값(가격)을 사용하고, 각 막대의 너비를 0.7 단위로 설정\n",
        "plt.xlabel('product name')\n",
        "plt.ylabel('price')\n",
        "plt.show()"
      ],
      "metadata": {
        "id": "s-txnPFrDfdG"
      },
      "execution_count": null,
      "outputs": []
    },
    {
      "cell_type": "code",
      "source": [
        "import matplotlib.pyplot as plt\n",
        "\n",
        "year = [2000, 2005, 2010, 2015, 2020]\n",
        "single_person = [15.5, 20.0, 23.9, 27.2, 31.7]\n",
        "baby_born = [640089, 438707, 470171, 438420, 272337]\n",
        "\n",
        "plt.figure(figsize=(5,3))\n",
        " # 1인 가구 비율(single_person)과 출생아 수(baby_born) 사이의 관계를 나타내는 산점도를 그립니다.\n",
        "for i in range(len(year)):\n",
        "  plt.annotate(year[i],xy=(single_person[i], baby_born[i]),xytext=(5,-10),textcoords='offset points') #각 연도에 해당하는 데이터 지점 옆에 해당 연도를 표시하는 주석을 추가\n",
        "plt.xlim(14,35)\n",
        "plt.ylim(230000,700000)\n",
        "plt.xlabel('single-person household ratio')\n",
        "plt.ylabel('the number of babies born')\n",
        "plt.show()"
      ],
      "metadata": {
        "id": "I42giaQ-DgfH"
      },
      "execution_count": null,
      "outputs": []
    },
    {
      "cell_type": "code",
      "source": [
        "import matplotlib.pyplot as plt\n",
        "import random\n",
        "\n",
        "x = [random.randint(1,100) for i in range(1000)]\n",
        "\n",
        "plt.figure(figsize=(5,3))\n",
        "# 데이터 배열 x를 20개의 구간으로 나누고 50% 투명도로 표시하는 빈도 분포 그래프를 생성\n",
        "plt.ylabel('frequency')\n",
        "plt.show()"
      ],
      "metadata": {
        "id": "2O5kgc_gDhab"
      },
      "execution_count": null,
      "outputs": []
    },
    {
      "cell_type": "code",
      "source": [
        "import matplotlib.pyplot as plt\n",
        "\n",
        "exercise ={'climbing':0,'soccer':0,'swimming':0,'tennis':0}\n",
        "\n",
        "print('좋아하는 운동을 입력하세요.')\n",
        "print('복수 개의 운동을 입력하려면 콤마로 구분하세요.')\n",
        "\n",
        "while True:\n",
        "  s = input('climbing,soccer,swimming,tennis,종료: ')\n",
        "  if s=='종료':\n",
        "    break\n",
        "  for a in s.split(','):\n",
        "    if a in exercise:\n",
        "      # 해당 운동의 카운트를 1 증가시키는 연산\n",
        "    else:\n",
        "      print(f'{a}는 등록되지 않은 운동입니다.')\n",
        "\n",
        "plt.figure(figsize=(5.5,3))\n",
        "plt.bar(exercise.keys(), exercise.values(), color='g', width=0.6)\n",
        "#plt.xticks(rotation='vertical')\n",
        "plt.xlabel('exercise')\n",
        "plt.ylabel('frequency')\n",
        "plt.show()"
      ],
      "metadata": {
        "id": "EgYg481CDiVD"
      },
      "execution_count": null,
      "outputs": []
    }
  ]
}