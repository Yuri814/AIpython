{
 "cells": [
  {
   "cell_type": "code",
   "execution_count": 2,
   "id": "064f3e41-8fbe-4694-8850-a84027cc9584",
   "metadata": {},
   "outputs": [
    {
     "name": "stdin",
     "output_type": "stream",
     "text": [
      " 11 14\n"
     ]
    },
    {
     "name": "stdout",
     "output_type": "stream",
     "text": [
      "a와 b는 0과 10 사이여야 합니다.\n"
     ]
    },
    {
     "name": "stdin",
     "output_type": "stream",
     "text": [
      " 1 2\n"
     ]
    },
    {
     "name": "stdout",
     "output_type": "stream",
     "text": [
      "3\n"
     ]
    }
   ],
   "source": [
    "#코딩 실습 1\n",
    "while True:\n",
    "  a, b = map(int, input().split())\n",
    "  if 0 < a < 10 and 0 < b < 10:\n",
    "    print(a + b)\n",
    "    break\n",
    "  else:\n",
    "    print(\"a와 b는 0과 10 사이여야 합니다.\")"
   ]
  },
  {
   "cell_type": "code",
   "execution_count": 9,
   "id": "683fbfeb-b989-4e51-a761-320fe04c37a6",
   "metadata": {},
   "outputs": [
    {
     "name": "stdin",
     "output_type": "stream",
     "text": [
      " 187\n",
      " 102\n"
     ]
    },
    {
     "name": "stdout",
     "output_type": "stream",
     "text": [
      "29.17\n"
     ]
    }
   ],
   "source": [
    "#코딩 실습 2\n",
    "height = float(input())\n",
    "weight = float(input())\n",
    "\n",
    "height_m = height / 100\n",
    "bmi = weight / (height_m ** 2)\n",
    "\n",
    "rounded_bmi = round(bmi, 2)\n",
    "\n",
    "print(rounded_bmi)"
   ]
  },
  {
   "cell_type": "code",
   "execution_count": null,
   "id": "2b9f45a0-d234-405a-85fc-576eca58ed61",
   "metadata": {},
   "outputs": [],
   "source": []
  }
 ],
 "metadata": {
  "kernelspec": {
   "display_name": "Python 3 (ipykernel)",
   "language": "python",
   "name": "python3"
  },
  "language_info": {
   "codemirror_mode": {
    "name": "ipython",
    "version": 3
   },
   "file_extension": ".py",
   "mimetype": "text/x-python",
   "name": "python",
   "nbconvert_exporter": "python",
   "pygments_lexer": "ipython3",
   "version": "3.12.6"
  }
 },
 "nbformat": 4,
 "nbformat_minor": 5
}
