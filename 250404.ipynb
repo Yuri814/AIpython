{
 "cells": [
  {
   "cell_type": "code",
   "execution_count": 7,
   "id": "3564c3cc-b42f-442b-adfe-21b2fd33a4da",
   "metadata": {},
   "outputs": [
    {
     "name": "stdin",
     "output_type": "stream",
     "text": [
      "온도 종류(섭씨 또는 화씨):  섭씨\n",
      "섭씨 온도:  25\n"
     ]
    },
    {
     "name": "stdout",
     "output_type": "stream",
     "text": [
      "화씨 온도는 %.2f %77.0입니다.\n"
     ]
    }
   ],
   "source": [
    "kind = input('온도 종류(섭씨 또는 화씨): ')\n",
    "temp = int(input(kind+' 온도: '))\n",
    "\n",
    "if kind == '섭씨':\n",
    "    print(f'화씨 온도는 {temp*9/5+32}입니다.')\n",
    "else:\n",
    "    print(f'섭씨 온도는 {(temp-32)*5/9}입니다.')\n"
   ]
  },
  {
   "cell_type": "code",
   "execution_count": 5,
   "id": "def160af-e44b-4565-ba77-75679a6163f0",
   "metadata": {},
   "outputs": [
    {
     "name": "stdin",
     "output_type": "stream",
     "text": [
      " 25\n"
     ]
    },
    {
     "name": "stdout",
     "output_type": "stream",
     "text": [
      "온도 25.00\n"
     ]
    }
   ],
   "source": [
    "temp = int(input())\n",
    "\n",
    "print(\"온도 %.2f\" %temp)"
   ]
  },
  {
   "cell_type": "code",
   "execution_count": 12,
   "id": "d9468002-9a16-43d8-81ff-c3b153c87937",
   "metadata": {},
   "outputs": [
    {
     "name": "stdout",
     "output_type": "stream",
     "text": [
      "1부터100까지의 수 하나를 정했습니다. \n",
      "이 숫자를 맞혀보세요.\n"
     ]
    },
    {
     "name": "stdin",
     "output_type": "stream",
     "text": [
      "1-100 숫자 입력:  50\n"
     ]
    },
    {
     "name": "stdout",
     "output_type": "stream",
     "text": [
      "50보다 작습니다.\n"
     ]
    },
    {
     "name": "stdin",
     "output_type": "stream",
     "text": [
      "1-100 숫자 입력:  30\n"
     ]
    },
    {
     "name": "stdout",
     "output_type": "stream",
     "text": [
      "30보다 작습니다.\n"
     ]
    },
    {
     "name": "stdin",
     "output_type": "stream",
     "text": [
      "1-100 숫자 입력:  15\n"
     ]
    },
    {
     "name": "stdout",
     "output_type": "stream",
     "text": [
      "15보다 큽니다.\n"
     ]
    },
    {
     "name": "stdin",
     "output_type": "stream",
     "text": [
      "1-100 숫자 입력:  22\n"
     ]
    },
    {
     "name": "stdout",
     "output_type": "stream",
     "text": [
      "22보다 작습니다.\n"
     ]
    },
    {
     "name": "stdin",
     "output_type": "stream",
     "text": [
      "1-100 숫자 입력:  19\n"
     ]
    },
    {
     "name": "stdout",
     "output_type": "stream",
     "text": [
      "19보다 작습니다.\n"
     ]
    },
    {
     "name": "stdin",
     "output_type": "stream",
     "text": [
      "1-100 숫자 입력:  18\n"
     ]
    },
    {
     "name": "stdout",
     "output_type": "stream",
     "text": [
      "정답입니다! 6회만에 맞혔습니다. \n"
     ]
    }
   ],
   "source": [
    "import random\n",
    "\n",
    "print(\"1부터100까지의 수 하나를 정했습니다. \")\n",
    "print(\"이 숫자를 맞혀보세요.\")\n",
    "\n",
    "answer = random.randint(1,100)\n",
    "times = 0\n",
    "#print(f'난수는 {answer}입니다.')\n",
    "\n",
    "while True:\n",
    "    user = int(input(\"1-100 숫자 입력: \"))\n",
    "    times += 1\n",
    "    \n",
    "    if user == answer:\n",
    "        break\n",
    "    elif user < answer:\n",
    "        print(f'{user}보다 큽니다.')\n",
    "    else:\n",
    "        print(f'{user}보다 작습니다.')\n",
    "        \n",
    "print(f'정답입니다! {times}회만에 맞혔습니다. ')"
   ]
  },
  {
   "cell_type": "code",
   "execution_count": 16,
   "id": "caeb13e2-81dc-4d3c-9d22-08d86eb6307f",
   "metadata": {},
   "outputs": [
    {
     "name": "stdout",
     "output_type": "stream",
     "text": [
      "[42, 75, 21, 17, 99, 18]\n"
     ]
    }
   ],
   "source": [
    "import random\n",
    "\n",
    "\n",
    "num = random.sample(range(1,100),6)\n",
    "print(num)"
   ]
  },
  {
   "cell_type": "code",
   "execution_count": 20,
   "id": "b3a374e0-62c2-4ab2-b7e8-e320672de41c",
   "metadata": {},
   "outputs": [
    {
     "name": "stdout",
     "output_type": "stream",
     "text": [
      "[45, 44, 41, 15, 28, 13]\n"
     ]
    }
   ],
   "source": [
    "import random\n",
    "\n",
    "list = []\n",
    "\n",
    "for i in range(1, 7):\n",
    "    num = random.randint(1,45)\n",
    "    list.append(num)\n",
    "\n",
    "print(list)"
   ]
  },
  {
   "cell_type": "code",
   "execution_count": 21,
   "id": "36ee316f-cc76-40a3-98c6-f1d7961f2004",
   "metadata": {},
   "outputs": [
    {
     "name": "stdout",
     "output_type": "stream",
     "text": [
      "86.4\n"
     ]
    }
   ],
   "source": [
    "성적 = [85, 92, 78, 90, 87]\n",
    "평균 = sum(성적) / len(성적)\n",
    "print(평균)"
   ]
  },
  {
   "cell_type": "code",
   "execution_count": 24,
   "id": "a214782c-7ae2-48e4-90da-02c233b3a437",
   "metadata": {},
   "outputs": [
    {
     "name": "stdout",
     "output_type": "stream",
     "text": [
      "평균: 86.4\n"
     ]
    }
   ],
   "source": [
    "성적 = [85, 92, 78, 90, 87]\n",
    "\n",
    "총점 = 0 \n",
    "평균 = 0.0\n",
    "항목수 = 0\n",
    "\n",
    "for 점수 in 성적:  \n",
    "    총점 += 점수\n",
    "    항목수 += 1\n",
    "평균 = 총점/항목수\n",
    "\n",
    "print(\"평균:\", 평균)"
   ]
  },
  {
   "cell_type": "code",
   "execution_count": 26,
   "id": "b1450654-2f84-4924-b312-91d99276f56c",
   "metadata": {},
   "outputs": [
    {
     "name": "stdout",
     "output_type": "stream",
     "text": [
      "['철수', '영희', '지영']\n"
     ]
    }
   ],
   "source": [
    "stds = [(\"철수\", 85), (\"영희\", 92), (\"민수\", 65), (\"지영\", 78)]\n",
    "stds_pass = []\n",
    "\n",
    "for std, score in stds:\n",
    "    if score >= 70:\n",
    "        stds_pass.append(std)\n",
    "\n",
    "print(stds_pass)"
   ]
  },
  {
   "cell_type": "code",
   "execution_count": 29,
   "id": "d4ff299a-e23b-4c2d-806e-60f88f752760",
   "metadata": {},
   "outputs": [
    {
     "name": "stdout",
     "output_type": "stream",
     "text": [
      "fruit list: ['사과', '바나나', '딸기', '포도']\n",
      "first fruit: 사과\n",
      "last fruit: 포도\n"
     ]
    }
   ],
   "source": [
    "#문제 1: 리스트 생성 및 요소 접근\n",
    "\n",
    "fruits = [\"사과\", \"바나나\", \"딸기\", \"포도\"]\n",
    "print(f'fruit list: {fruits}')\n",
    "\n",
    "first_fruits = fruits[0]\n",
    "print(f'first fruit: {first_fruits}')\n",
    "\n",
    "last_fruits = fruits[-1]\n",
    "print(f'last fruit: {last_fruits}')"
   ]
  },
  {
   "cell_type": "code",
   "execution_count": 31,
   "id": "fb5beed2-bf15-4f9e-bb15-f51a25ba8191",
   "metadata": {},
   "outputs": [
    {
     "name": "stdout",
     "output_type": "stream",
     "text": [
      "fruit list: ['사과', '바나나', '딸기', '포도']\n",
      "fruit added list: ['사과', '바나나', '딸기', '포도', '오렌지']\n",
      "fruit removed list: ['사과', '바나나', '딸기', '포도']\n"
     ]
    }
   ],
   "source": [
    "#문제 2: 리스트 요소 추가 및 삭제\n",
    "\n",
    "fruits = [\"사과\", \"바나나\", \"딸기\", \"포도\"]\n",
    "print(f'fruit list: {fruits}')\n",
    "\n",
    "fruits.append(\"오렌지\")\n",
    "print(f'fruit added list: {fruits}')\n",
    "\n",
    "fruits.remove(\"오렌지\")\n",
    "print(f'fruit removed list: {fruits}')"
   ]
  },
  {
   "cell_type": "code",
   "execution_count": 34,
   "id": "256ac37e-65bb-497a-a895-5dc4399f7fbe",
   "metadata": {},
   "outputs": [
    {
     "name": "stdout",
     "output_type": "stream",
     "text": [
      "60\n",
      "94\n",
      "16\n",
      "56\n",
      "65\n"
     ]
    }
   ],
   "source": [
    "#문제 3: 리스트 요소 순회하며 출력\n",
    "import random\n",
    "\n",
    "numbers = random.sample(range(1,100),5)\n",
    "#print(f'list: {numbers}')\n",
    "\n",
    "for num in numbers:\n",
    "    print(num)"
   ]
  },
  {
   "cell_type": "code",
   "execution_count": 37,
   "id": "f6bbc3e4-99cf-4a6a-93ce-c9a8176c8800",
   "metadata": {},
   "outputs": [
    {
     "name": "stdout",
     "output_type": "stream",
     "text": [
      "원래 색깔 리스트: ['빨강', '초록', '파랑']\n",
      "요소 변경 후 색깔 리스트: ['빨강', '노랑', '파랑']\n"
     ]
    }
   ],
   "source": [
    "#문제 4: 리스트 요소 값 변경\n",
    "\n",
    "colors = [\"빨강\", \"초록\", \"파랑\"]\n",
    "print(f\"원래 색깔 리스트: {colors}\")\n",
    "\n",
    "colors[1] = \"노랑\"\n",
    "print(f\"요소 변경 후 색깔 리스트: {colors}\")"
   ]
  },
  {
   "cell_type": "code",
   "execution_count": null,
   "id": "8e25bbbd-6f8c-4ddb-9723-4560ffac45ee",
   "metadata": {},
   "outputs": [],
   "source": [
    "# 문제 5: 두 개의 리스트 합치기\n",
    "list1 = [1, 2, 3]\n",
    "list2 = [4, 5, 6]\n",
    "print(f\"첫 번째 리스트: {list1}\")\n",
    "print(f\"두 번째 리스트: {list2}\")\n",
    "\n",
    "# 방법 1: + 연산자 사용\n",
    "combined_list_plus = list1 + list2\n",
    "print(f\"두 리스트 합치기 (+) 결과: {combined_list_plus}\")\n",
    "\n",
    "# 방법 2: extend() 메서드 사용\n",
    "list1.extend(list2)\n",
    "print(f\"첫 번째 리스트에 두 번째 리스트 확장 (extend()): {list1}\")"
   ]
  }
 ],
 "metadata": {
  "kernelspec": {
   "display_name": "Python 3 (ipykernel)",
   "language": "python",
   "name": "python3"
  },
  "language_info": {
   "codemirror_mode": {
    "name": "ipython",
    "version": 3
   },
   "file_extension": ".py",
   "mimetype": "text/x-python",
   "name": "python",
   "nbconvert_exporter": "python",
   "pygments_lexer": "ipython3",
   "version": "3.12.6"
  }
 },
 "nbformat": 4,
 "nbformat_minor": 5
}
