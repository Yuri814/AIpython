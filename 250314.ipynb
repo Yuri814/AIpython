{
  "nbformat": 4,
  "nbformat_minor": 0,
  "metadata": {
    "colab": {
      "provenance": []
    },
    "kernelspec": {
      "name": "python3",
      "display_name": "Python 3"
    },
    "language_info": {
      "name": "python"
    }
  },
  "cells": [
    {
      "cell_type": "code",
      "execution_count": 22,
      "metadata": {
        "colab": {
          "base_uri": "https://localhost:8080/"
        },
        "id": "nzLRDuxydZPY",
        "outputId": "277c8e84-5577-4b6c-8a96-37476a310f64"
      },
      "outputs": [
        {
          "output_type": "stream",
          "name": "stdout",
          "text": [
            "반지름이 5인 원의 면적은 78.5398 입니다.\n"
          ]
        }
      ],
      "source": [
        "#문제1. 반지름이 5인 원의 면적을 구하시오. 원주율 값은 3.141592로 계산합니다.\n",
        "\n",
        "pi = 3.141592\n",
        "rd = 5\n",
        "area = pi * rd * rd\n",
        "print(f\"반지름이 {rd}인 원의 면적은 {area} 입니다.\")"
      ]
    },
    {
      "cell_type": "code",
      "source": [
        "#문제2. 분(정수)을 시간과 분으로 변환하여 출력하시오\n",
        "\n",
        "whole = 100\n",
        "hour = whole // 60\n",
        "min = whole % 60\n",
        "\n",
        "print(f\"{whole}분은 {hour}시간 {min}분입니다.\")"
      ],
      "metadata": {
        "colab": {
          "base_uri": "https://localhost:8080/"
        },
        "id": "Na3M_qqMdqnx",
        "outputId": "6c3991d6-79d3-41bb-b19b-d66a95e3afd4"
      },
      "execution_count": 24,
      "outputs": [
        {
          "output_type": "stream",
          "name": "stdout",
          "text": [
            "100분은 1시간 40분입니다.\n"
          ]
        }
      ]
    },
    {
      "cell_type": "code",
      "source": [],
      "metadata": {
        "id": "rNBcYA-ve_pr"
      },
      "execution_count": null,
      "outputs": []
    }
  ]
}