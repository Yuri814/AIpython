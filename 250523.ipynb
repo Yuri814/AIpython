{
  "nbformat": 4,
  "nbformat_minor": 0,
  "metadata": {
    "colab": {
      "provenance": [],
      "authorship_tag": "ABX9TyOJoaVcR82WjNJo6+z1Pqvm",
      "include_colab_link": true
    },
    "kernelspec": {
      "name": "python3",
      "display_name": "Python 3"
    },
    "language_info": {
      "name": "python"
    }
  },
  "cells": [
    {
      "cell_type": "markdown",
      "metadata": {
        "id": "view-in-github",
        "colab_type": "text"
      },
      "source": [
        "<a href=\"https://colab.research.google.com/github/Yuri814/AIpython/blob/main/250523.ipynb\" target=\"_parent\"><img src=\"https://colab.research.google.com/assets/colab-badge.svg\" alt=\"Open In Colab\"/></a>"
      ]
    },
    {
      "cell_type": "markdown",
      "source": [
        "**문제 1: 데이터 파일 열어보기**"
      ],
      "metadata": {
        "id": "rff8TPWPA_IE"
      }
    },
    {
      "cell_type": "code",
      "source": [
        "import pandas as pd"
      ],
      "metadata": {
        "id": "hQ8809_aBNRj"
      },
      "execution_count": 3,
      "outputs": []
    },
    {
      "cell_type": "code",
      "source": [
        "iris = pd.read_csv('Iris.csv')\n",
        "display(iris)"
      ],
      "metadata": {
        "colab": {
          "base_uri": "https://localhost:8080/",
          "height": 423
        },
        "id": "woDnzyRgBEgs",
        "outputId": "0c5266be-1ff7-4a11-d6e2-f77c0933bd68"
      },
      "execution_count": 4,
      "outputs": [
        {
          "output_type": "display_data",
          "data": {
            "text/plain": [
              "      Id  SepalLengthCm  SepalWidthCm  PetalLengthCm  PetalWidthCm  \\\n",
              "0      1            5.1           3.5            1.4           0.2   \n",
              "1      2            4.9           3.0            1.4           0.2   \n",
              "2      3            4.7           3.2            1.3           0.2   \n",
              "3      4            4.6           3.1            1.5           0.2   \n",
              "4      5            5.0           3.6            1.4           0.2   \n",
              "..   ...            ...           ...            ...           ...   \n",
              "145  146            6.7           3.0            5.2           2.3   \n",
              "146  147            6.3           2.5            5.0           1.9   \n",
              "147  148            6.5           3.0            5.2           2.0   \n",
              "148  149            6.2           3.4            5.4           2.3   \n",
              "149  150            5.9           3.0            5.1           1.8   \n",
              "\n",
              "            Species  \n",
              "0       Iris-setosa  \n",
              "1       Iris-setosa  \n",
              "2       Iris-setosa  \n",
              "3       Iris-setosa  \n",
              "4       Iris-setosa  \n",
              "..              ...  \n",
              "145  Iris-virginica  \n",
              "146  Iris-virginica  \n",
              "147  Iris-virginica  \n",
              "148  Iris-virginica  \n",
              "149  Iris-virginica  \n",
              "\n",
              "[150 rows x 6 columns]"
            ],
            "text/html": [
              "\n",
              "  <div id=\"df-97248a2b-2ceb-427c-9311-064c31197df0\" class=\"colab-df-container\">\n",
              "    <div>\n",
              "<style scoped>\n",
              "    .dataframe tbody tr th:only-of-type {\n",
              "        vertical-align: middle;\n",
              "    }\n",
              "\n",
              "    .dataframe tbody tr th {\n",
              "        vertical-align: top;\n",
              "    }\n",
              "\n",
              "    .dataframe thead th {\n",
              "        text-align: right;\n",
              "    }\n",
              "</style>\n",
              "<table border=\"1\" class=\"dataframe\">\n",
              "  <thead>\n",
              "    <tr style=\"text-align: right;\">\n",
              "      <th></th>\n",
              "      <th>Id</th>\n",
              "      <th>SepalLengthCm</th>\n",
              "      <th>SepalWidthCm</th>\n",
              "      <th>PetalLengthCm</th>\n",
              "      <th>PetalWidthCm</th>\n",
              "      <th>Species</th>\n",
              "    </tr>\n",
              "  </thead>\n",
              "  <tbody>\n",
              "    <tr>\n",
              "      <th>0</th>\n",
              "      <td>1</td>\n",
              "      <td>5.1</td>\n",
              "      <td>3.5</td>\n",
              "      <td>1.4</td>\n",
              "      <td>0.2</td>\n",
              "      <td>Iris-setosa</td>\n",
              "    </tr>\n",
              "    <tr>\n",
              "      <th>1</th>\n",
              "      <td>2</td>\n",
              "      <td>4.9</td>\n",
              "      <td>3.0</td>\n",
              "      <td>1.4</td>\n",
              "      <td>0.2</td>\n",
              "      <td>Iris-setosa</td>\n",
              "    </tr>\n",
              "    <tr>\n",
              "      <th>2</th>\n",
              "      <td>3</td>\n",
              "      <td>4.7</td>\n",
              "      <td>3.2</td>\n",
              "      <td>1.3</td>\n",
              "      <td>0.2</td>\n",
              "      <td>Iris-setosa</td>\n",
              "    </tr>\n",
              "    <tr>\n",
              "      <th>3</th>\n",
              "      <td>4</td>\n",
              "      <td>4.6</td>\n",
              "      <td>3.1</td>\n",
              "      <td>1.5</td>\n",
              "      <td>0.2</td>\n",
              "      <td>Iris-setosa</td>\n",
              "    </tr>\n",
              "    <tr>\n",
              "      <th>4</th>\n",
              "      <td>5</td>\n",
              "      <td>5.0</td>\n",
              "      <td>3.6</td>\n",
              "      <td>1.4</td>\n",
              "      <td>0.2</td>\n",
              "      <td>Iris-setosa</td>\n",
              "    </tr>\n",
              "    <tr>\n",
              "      <th>...</th>\n",
              "      <td>...</td>\n",
              "      <td>...</td>\n",
              "      <td>...</td>\n",
              "      <td>...</td>\n",
              "      <td>...</td>\n",
              "      <td>...</td>\n",
              "    </tr>\n",
              "    <tr>\n",
              "      <th>145</th>\n",
              "      <td>146</td>\n",
              "      <td>6.7</td>\n",
              "      <td>3.0</td>\n",
              "      <td>5.2</td>\n",
              "      <td>2.3</td>\n",
              "      <td>Iris-virginica</td>\n",
              "    </tr>\n",
              "    <tr>\n",
              "      <th>146</th>\n",
              "      <td>147</td>\n",
              "      <td>6.3</td>\n",
              "      <td>2.5</td>\n",
              "      <td>5.0</td>\n",
              "      <td>1.9</td>\n",
              "      <td>Iris-virginica</td>\n",
              "    </tr>\n",
              "    <tr>\n",
              "      <th>147</th>\n",
              "      <td>148</td>\n",
              "      <td>6.5</td>\n",
              "      <td>3.0</td>\n",
              "      <td>5.2</td>\n",
              "      <td>2.0</td>\n",
              "      <td>Iris-virginica</td>\n",
              "    </tr>\n",
              "    <tr>\n",
              "      <th>148</th>\n",
              "      <td>149</td>\n",
              "      <td>6.2</td>\n",
              "      <td>3.4</td>\n",
              "      <td>5.4</td>\n",
              "      <td>2.3</td>\n",
              "      <td>Iris-virginica</td>\n",
              "    </tr>\n",
              "    <tr>\n",
              "      <th>149</th>\n",
              "      <td>150</td>\n",
              "      <td>5.9</td>\n",
              "      <td>3.0</td>\n",
              "      <td>5.1</td>\n",
              "      <td>1.8</td>\n",
              "      <td>Iris-virginica</td>\n",
              "    </tr>\n",
              "  </tbody>\n",
              "</table>\n",
              "<p>150 rows × 6 columns</p>\n",
              "</div>\n",
              "    <div class=\"colab-df-buttons\">\n",
              "\n",
              "  <div class=\"colab-df-container\">\n",
              "    <button class=\"colab-df-convert\" onclick=\"convertToInteractive('df-97248a2b-2ceb-427c-9311-064c31197df0')\"\n",
              "            title=\"Convert this dataframe to an interactive table.\"\n",
              "            style=\"display:none;\">\n",
              "\n",
              "  <svg xmlns=\"http://www.w3.org/2000/svg\" height=\"24px\" viewBox=\"0 -960 960 960\">\n",
              "    <path d=\"M120-120v-720h720v720H120Zm60-500h600v-160H180v160Zm220 220h160v-160H400v160Zm0 220h160v-160H400v160ZM180-400h160v-160H180v160Zm440 0h160v-160H620v160ZM180-180h160v-160H180v160Zm440 0h160v-160H620v160Z\"/>\n",
              "  </svg>\n",
              "    </button>\n",
              "\n",
              "  <style>\n",
              "    .colab-df-container {\n",
              "      display:flex;\n",
              "      gap: 12px;\n",
              "    }\n",
              "\n",
              "    .colab-df-convert {\n",
              "      background-color: #E8F0FE;\n",
              "      border: none;\n",
              "      border-radius: 50%;\n",
              "      cursor: pointer;\n",
              "      display: none;\n",
              "      fill: #1967D2;\n",
              "      height: 32px;\n",
              "      padding: 0 0 0 0;\n",
              "      width: 32px;\n",
              "    }\n",
              "\n",
              "    .colab-df-convert:hover {\n",
              "      background-color: #E2EBFA;\n",
              "      box-shadow: 0px 1px 2px rgba(60, 64, 67, 0.3), 0px 1px 3px 1px rgba(60, 64, 67, 0.15);\n",
              "      fill: #174EA6;\n",
              "    }\n",
              "\n",
              "    .colab-df-buttons div {\n",
              "      margin-bottom: 4px;\n",
              "    }\n",
              "\n",
              "    [theme=dark] .colab-df-convert {\n",
              "      background-color: #3B4455;\n",
              "      fill: #D2E3FC;\n",
              "    }\n",
              "\n",
              "    [theme=dark] .colab-df-convert:hover {\n",
              "      background-color: #434B5C;\n",
              "      box-shadow: 0px 1px 3px 1px rgba(0, 0, 0, 0.15);\n",
              "      filter: drop-shadow(0px 1px 2px rgba(0, 0, 0, 0.3));\n",
              "      fill: #FFFFFF;\n",
              "    }\n",
              "  </style>\n",
              "\n",
              "    <script>\n",
              "      const buttonEl =\n",
              "        document.querySelector('#df-97248a2b-2ceb-427c-9311-064c31197df0 button.colab-df-convert');\n",
              "      buttonEl.style.display =\n",
              "        google.colab.kernel.accessAllowed ? 'block' : 'none';\n",
              "\n",
              "      async function convertToInteractive(key) {\n",
              "        const element = document.querySelector('#df-97248a2b-2ceb-427c-9311-064c31197df0');\n",
              "        const dataTable =\n",
              "          await google.colab.kernel.invokeFunction('convertToInteractive',\n",
              "                                                    [key], {});\n",
              "        if (!dataTable) return;\n",
              "\n",
              "        const docLinkHtml = 'Like what you see? Visit the ' +\n",
              "          '<a target=\"_blank\" href=https://colab.research.google.com/notebooks/data_table.ipynb>data table notebook</a>'\n",
              "          + ' to learn more about interactive tables.';\n",
              "        element.innerHTML = '';\n",
              "        dataTable['output_type'] = 'display_data';\n",
              "        await google.colab.output.renderOutput(dataTable, element);\n",
              "        const docLink = document.createElement('div');\n",
              "        docLink.innerHTML = docLinkHtml;\n",
              "        element.appendChild(docLink);\n",
              "      }\n",
              "    </script>\n",
              "  </div>\n",
              "\n",
              "\n",
              "    <div id=\"df-a1161764-c43e-4184-9b9d-9f44d4f08cea\">\n",
              "      <button class=\"colab-df-quickchart\" onclick=\"quickchart('df-a1161764-c43e-4184-9b9d-9f44d4f08cea')\"\n",
              "                title=\"Suggest charts\"\n",
              "                style=\"display:none;\">\n",
              "\n",
              "<svg xmlns=\"http://www.w3.org/2000/svg\" height=\"24px\"viewBox=\"0 0 24 24\"\n",
              "     width=\"24px\">\n",
              "    <g>\n",
              "        <path d=\"M19 3H5c-1.1 0-2 .9-2 2v14c0 1.1.9 2 2 2h14c1.1 0 2-.9 2-2V5c0-1.1-.9-2-2-2zM9 17H7v-7h2v7zm4 0h-2V7h2v10zm4 0h-2v-4h2v4z\"/>\n",
              "    </g>\n",
              "</svg>\n",
              "      </button>\n",
              "\n",
              "<style>\n",
              "  .colab-df-quickchart {\n",
              "      --bg-color: #E8F0FE;\n",
              "      --fill-color: #1967D2;\n",
              "      --hover-bg-color: #E2EBFA;\n",
              "      --hover-fill-color: #174EA6;\n",
              "      --disabled-fill-color: #AAA;\n",
              "      --disabled-bg-color: #DDD;\n",
              "  }\n",
              "\n",
              "  [theme=dark] .colab-df-quickchart {\n",
              "      --bg-color: #3B4455;\n",
              "      --fill-color: #D2E3FC;\n",
              "      --hover-bg-color: #434B5C;\n",
              "      --hover-fill-color: #FFFFFF;\n",
              "      --disabled-bg-color: #3B4455;\n",
              "      --disabled-fill-color: #666;\n",
              "  }\n",
              "\n",
              "  .colab-df-quickchart {\n",
              "    background-color: var(--bg-color);\n",
              "    border: none;\n",
              "    border-radius: 50%;\n",
              "    cursor: pointer;\n",
              "    display: none;\n",
              "    fill: var(--fill-color);\n",
              "    height: 32px;\n",
              "    padding: 0;\n",
              "    width: 32px;\n",
              "  }\n",
              "\n",
              "  .colab-df-quickchart:hover {\n",
              "    background-color: var(--hover-bg-color);\n",
              "    box-shadow: 0 1px 2px rgba(60, 64, 67, 0.3), 0 1px 3px 1px rgba(60, 64, 67, 0.15);\n",
              "    fill: var(--button-hover-fill-color);\n",
              "  }\n",
              "\n",
              "  .colab-df-quickchart-complete:disabled,\n",
              "  .colab-df-quickchart-complete:disabled:hover {\n",
              "    background-color: var(--disabled-bg-color);\n",
              "    fill: var(--disabled-fill-color);\n",
              "    box-shadow: none;\n",
              "  }\n",
              "\n",
              "  .colab-df-spinner {\n",
              "    border: 2px solid var(--fill-color);\n",
              "    border-color: transparent;\n",
              "    border-bottom-color: var(--fill-color);\n",
              "    animation:\n",
              "      spin 1s steps(1) infinite;\n",
              "  }\n",
              "\n",
              "  @keyframes spin {\n",
              "    0% {\n",
              "      border-color: transparent;\n",
              "      border-bottom-color: var(--fill-color);\n",
              "      border-left-color: var(--fill-color);\n",
              "    }\n",
              "    20% {\n",
              "      border-color: transparent;\n",
              "      border-left-color: var(--fill-color);\n",
              "      border-top-color: var(--fill-color);\n",
              "    }\n",
              "    30% {\n",
              "      border-color: transparent;\n",
              "      border-left-color: var(--fill-color);\n",
              "      border-top-color: var(--fill-color);\n",
              "      border-right-color: var(--fill-color);\n",
              "    }\n",
              "    40% {\n",
              "      border-color: transparent;\n",
              "      border-right-color: var(--fill-color);\n",
              "      border-top-color: var(--fill-color);\n",
              "    }\n",
              "    60% {\n",
              "      border-color: transparent;\n",
              "      border-right-color: var(--fill-color);\n",
              "    }\n",
              "    80% {\n",
              "      border-color: transparent;\n",
              "      border-right-color: var(--fill-color);\n",
              "      border-bottom-color: var(--fill-color);\n",
              "    }\n",
              "    90% {\n",
              "      border-color: transparent;\n",
              "      border-bottom-color: var(--fill-color);\n",
              "    }\n",
              "  }\n",
              "</style>\n",
              "\n",
              "      <script>\n",
              "        async function quickchart(key) {\n",
              "          const quickchartButtonEl =\n",
              "            document.querySelector('#' + key + ' button');\n",
              "          quickchartButtonEl.disabled = true;  // To prevent multiple clicks.\n",
              "          quickchartButtonEl.classList.add('colab-df-spinner');\n",
              "          try {\n",
              "            const charts = await google.colab.kernel.invokeFunction(\n",
              "                'suggestCharts', [key], {});\n",
              "          } catch (error) {\n",
              "            console.error('Error during call to suggestCharts:', error);\n",
              "          }\n",
              "          quickchartButtonEl.classList.remove('colab-df-spinner');\n",
              "          quickchartButtonEl.classList.add('colab-df-quickchart-complete');\n",
              "        }\n",
              "        (() => {\n",
              "          let quickchartButtonEl =\n",
              "            document.querySelector('#df-a1161764-c43e-4184-9b9d-9f44d4f08cea button');\n",
              "          quickchartButtonEl.style.display =\n",
              "            google.colab.kernel.accessAllowed ? 'block' : 'none';\n",
              "        })();\n",
              "      </script>\n",
              "    </div>\n",
              "\n",
              "  <div id=\"id_663dc205-fa5d-40a5-a308-0b37f3bc070b\">\n",
              "    <style>\n",
              "      .colab-df-generate {\n",
              "        background-color: #E8F0FE;\n",
              "        border: none;\n",
              "        border-radius: 50%;\n",
              "        cursor: pointer;\n",
              "        display: none;\n",
              "        fill: #1967D2;\n",
              "        height: 32px;\n",
              "        padding: 0 0 0 0;\n",
              "        width: 32px;\n",
              "      }\n",
              "\n",
              "      .colab-df-generate:hover {\n",
              "        background-color: #E2EBFA;\n",
              "        box-shadow: 0px 1px 2px rgba(60, 64, 67, 0.3), 0px 1px 3px 1px rgba(60, 64, 67, 0.15);\n",
              "        fill: #174EA6;\n",
              "      }\n",
              "\n",
              "      [theme=dark] .colab-df-generate {\n",
              "        background-color: #3B4455;\n",
              "        fill: #D2E3FC;\n",
              "      }\n",
              "\n",
              "      [theme=dark] .colab-df-generate:hover {\n",
              "        background-color: #434B5C;\n",
              "        box-shadow: 0px 1px 3px 1px rgba(0, 0, 0, 0.15);\n",
              "        filter: drop-shadow(0px 1px 2px rgba(0, 0, 0, 0.3));\n",
              "        fill: #FFFFFF;\n",
              "      }\n",
              "    </style>\n",
              "    <button class=\"colab-df-generate\" onclick=\"generateWithVariable('iris')\"\n",
              "            title=\"Generate code using this dataframe.\"\n",
              "            style=\"display:none;\">\n",
              "\n",
              "  <svg xmlns=\"http://www.w3.org/2000/svg\" height=\"24px\"viewBox=\"0 0 24 24\"\n",
              "       width=\"24px\">\n",
              "    <path d=\"M7,19H8.4L18.45,9,17,7.55,7,17.6ZM5,21V16.75L18.45,3.32a2,2,0,0,1,2.83,0l1.4,1.43a1.91,1.91,0,0,1,.58,1.4,1.91,1.91,0,0,1-.58,1.4L9.25,21ZM18.45,9,17,7.55Zm-12,3A5.31,5.31,0,0,0,4.9,8.1,5.31,5.31,0,0,0,1,6.5,5.31,5.31,0,0,0,4.9,4.9,5.31,5.31,0,0,0,6.5,1,5.31,5.31,0,0,0,8.1,4.9,5.31,5.31,0,0,0,12,6.5,5.46,5.46,0,0,0,6.5,12Z\"/>\n",
              "  </svg>\n",
              "    </button>\n",
              "    <script>\n",
              "      (() => {\n",
              "      const buttonEl =\n",
              "        document.querySelector('#id_663dc205-fa5d-40a5-a308-0b37f3bc070b button.colab-df-generate');\n",
              "      buttonEl.style.display =\n",
              "        google.colab.kernel.accessAllowed ? 'block' : 'none';\n",
              "\n",
              "      buttonEl.onclick = () => {\n",
              "        google.colab.notebook.generateWithVariable('iris');\n",
              "      }\n",
              "      })();\n",
              "    </script>\n",
              "  </div>\n",
              "\n",
              "    </div>\n",
              "  </div>\n"
            ],
            "application/vnd.google.colaboratory.intrinsic+json": {
              "type": "dataframe",
              "variable_name": "iris",
              "summary": "{\n  \"name\": \"iris\",\n  \"rows\": 150,\n  \"fields\": [\n    {\n      \"column\": \"Id\",\n      \"properties\": {\n        \"dtype\": \"number\",\n        \"std\": 43,\n        \"min\": 1,\n        \"max\": 150,\n        \"num_unique_values\": 150,\n        \"samples\": [\n          74,\n          19,\n          119\n        ],\n        \"semantic_type\": \"\",\n        \"description\": \"\"\n      }\n    },\n    {\n      \"column\": \"SepalLengthCm\",\n      \"properties\": {\n        \"dtype\": \"number\",\n        \"std\": 0.8280661279778629,\n        \"min\": 4.3,\n        \"max\": 7.9,\n        \"num_unique_values\": 35,\n        \"samples\": [\n          6.2,\n          4.5,\n          5.6\n        ],\n        \"semantic_type\": \"\",\n        \"description\": \"\"\n      }\n    },\n    {\n      \"column\": \"SepalWidthCm\",\n      \"properties\": {\n        \"dtype\": \"number\",\n        \"std\": 0.4335943113621737,\n        \"min\": 2.0,\n        \"max\": 4.4,\n        \"num_unique_values\": 23,\n        \"samples\": [\n          2.3,\n          4.0,\n          3.5\n        ],\n        \"semantic_type\": \"\",\n        \"description\": \"\"\n      }\n    },\n    {\n      \"column\": \"PetalLengthCm\",\n      \"properties\": {\n        \"dtype\": \"number\",\n        \"std\": 1.7644204199522617,\n        \"min\": 1.0,\n        \"max\": 6.9,\n        \"num_unique_values\": 43,\n        \"samples\": [\n          6.7,\n          3.8,\n          3.7\n        ],\n        \"semantic_type\": \"\",\n        \"description\": \"\"\n      }\n    },\n    {\n      \"column\": \"PetalWidthCm\",\n      \"properties\": {\n        \"dtype\": \"number\",\n        \"std\": 0.7631607417008414,\n        \"min\": 0.1,\n        \"max\": 2.5,\n        \"num_unique_values\": 22,\n        \"samples\": [\n          0.2,\n          1.2,\n          1.3\n        ],\n        \"semantic_type\": \"\",\n        \"description\": \"\"\n      }\n    },\n    {\n      \"column\": \"Species\",\n      \"properties\": {\n        \"dtype\": \"category\",\n        \"num_unique_values\": 3,\n        \"samples\": [\n          \"Iris-setosa\",\n          \"Iris-versicolor\",\n          \"Iris-virginica\"\n        ],\n        \"semantic_type\": \"\",\n        \"description\": \"\"\n      }\n    }\n  ]\n}"
            }
          },
          "metadata": {}
        }
      ]
    },
    {
      "cell_type": "markdown",
      "source": [
        "**문제 2: 데이터 구경하기**\n",
        "- 총 몇 개의 붓꽃 데이터가 있나요?\n",
        "- 총 몇 개의 정보(열)가 있나요?"
      ],
      "metadata": {
        "id": "8KlekOtvBWwU"
      }
    },
    {
      "cell_type": "code",
      "source": [
        "iris.info()"
      ],
      "metadata": {
        "colab": {
          "base_uri": "https://localhost:8080/"
        },
        "id": "iAHbJwYABaXj",
        "outputId": "1b9bb8a4-dcb0-43ee-ab4e-e8a1d0b1fa58"
      },
      "execution_count": 5,
      "outputs": [
        {
          "output_type": "stream",
          "name": "stdout",
          "text": [
            "<class 'pandas.core.frame.DataFrame'>\n",
            "RangeIndex: 150 entries, 0 to 149\n",
            "Data columns (total 6 columns):\n",
            " #   Column         Non-Null Count  Dtype  \n",
            "---  ------         --------------  -----  \n",
            " 0   Id             150 non-null    int64  \n",
            " 1   SepalLengthCm  150 non-null    float64\n",
            " 2   SepalWidthCm   150 non-null    float64\n",
            " 3   PetalLengthCm  150 non-null    float64\n",
            " 4   PetalWidthCm   150 non-null    float64\n",
            " 5   Species        150 non-null    object \n",
            "dtypes: float64(4), int64(1), object(1)\n",
            "memory usage: 7.2+ KB\n"
          ]
        }
      ]
    },
    {
      "cell_type": "markdown",
      "source": [
        "**문제 3: 각 열의 이름 확인하기**"
      ],
      "metadata": {
        "id": "3vFyWjaOCdXM"
      }
    },
    {
      "cell_type": "code",
      "source": [
        "print(iris.columns)"
      ],
      "metadata": {
        "colab": {
          "base_uri": "https://localhost:8080/"
        },
        "id": "DRW6jBSQCgWE",
        "outputId": "647f50fe-27a0-4bdc-d0a9-941e097d695e"
      },
      "execution_count": 6,
      "outputs": [
        {
          "output_type": "stream",
          "name": "stdout",
          "text": [
            "Index(['Id', 'SepalLengthCm', 'SepalWidthCm', 'PetalLengthCm', 'PetalWidthCm',\n",
            "       'Species'],\n",
            "      dtype='object')\n"
          ]
        }
      ]
    },
    {
      "cell_type": "markdown",
      "source": [
        "**문제 4: 기본 정보 확인하기**\n",
        "- 비어있는 값(null)이 있나요?\n",
        "- 숫자로 된 열은 몇 개인가요?"
      ],
      "metadata": {
        "id": "E4arAJXcC7sN"
      }
    },
    {
      "cell_type": "code",
      "source": [
        "iris_isnull = iris.isnull().sum()       # 컬럼별 결측치 개수 확인\n",
        "print(iris_isnull)"
      ],
      "metadata": {
        "colab": {
          "base_uri": "https://localhost:8080/"
        },
        "id": "pTvNhStPC9yU",
        "outputId": "160562a8-bdce-4f4d-ade4-0e5efb733067"
      },
      "execution_count": 7,
      "outputs": [
        {
          "output_type": "stream",
          "name": "stdout",
          "text": [
            "Id               0\n",
            "SepalLengthCm    0\n",
            "SepalWidthCm     0\n",
            "PetalLengthCm    0\n",
            "PetalWidthCm     0\n",
            "Species          0\n",
            "dtype: int64\n"
          ]
        }
      ]
    },
    {
      "cell_type": "code",
      "source": [
        "numeric_columns = iris.select_dtypes(include=['number'])\n",
        "print(numeric_columns.columns)"
      ],
      "metadata": {
        "colab": {
          "base_uri": "https://localhost:8080/"
        },
        "id": "_tQJ99GWD45U",
        "outputId": "f249b15b-84dc-4739-9fcc-34c7d5ab28c5"
      },
      "execution_count": 8,
      "outputs": [
        {
          "output_type": "stream",
          "name": "stdout",
          "text": [
            "Index(['Id', 'SepalLengthCm', 'SepalWidthCm', 'PetalLengthCm', 'PetalWidthCm'], dtype='object')\n"
          ]
        }
      ]
    },
    {
      "cell_type": "markdown",
      "source": [
        "**문제 5: 간단한 계산해보기**\n",
        "- 꽃받침 길이의 평균은 얼마인가요?\n",
        "- 꽃잎 너비의 최댓값은 얼마인가요?"
      ],
      "metadata": {
        "id": "3ZTGfaIDC_4c"
      }
    },
    {
      "cell_type": "code",
      "execution_count": 9,
      "metadata": {
        "colab": {
          "base_uri": "https://localhost:8080/"
        },
        "id": "2Qa8thm1A2-V",
        "outputId": "50314cd4-871f-4c27-9a16-24fbe8b9dc4c"
      },
      "outputs": [
        {
          "output_type": "stream",
          "name": "stdout",
          "text": [
            "꽃받침 길이 평균: 5.84\n",
            "꽃잎 너비 최댓값: 2.5\n"
          ]
        }
      ],
      "source": [
        "#꽃받침 길이 평균\n",
        "iris_mean = iris['SepalLengthCm'].mean()\n",
        "print(f'꽃받침 길이 평균: {iris_mean.round(2)}')\n",
        "\n",
        "#꽃잎 너비 최댓값\n",
        "iris_max = iris['PetalWidthCm'].max()\n",
        "print(f'꽃잎 너비 최댓값: {iris_max}')"
      ]
    },
    {
      "cell_type": "markdown",
      "source": [
        "**문제 6: 붓꽃 종류별로 개수 세기**\n",
        "- 각 붓꽃 종류는 몇 개씩 있나요?\n",
        "- 세 종류의 개수가 같나요?\n"
      ],
      "metadata": {
        "id": "9uRO1pYlEm7t"
      }
    },
    {
      "cell_type": "code",
      "source": [
        "iris_type = iris['Species'].value_counts()\n",
        "print(iris_type)"
      ],
      "metadata": {
        "colab": {
          "base_uri": "https://localhost:8080/"
        },
        "id": "582CbZ9hEFid",
        "outputId": "3bde6e29-8d57-4c73-94d3-415a7cb4afaf"
      },
      "execution_count": 10,
      "outputs": [
        {
          "output_type": "stream",
          "name": "stdout",
          "text": [
            "Species\n",
            "Iris-setosa        50\n",
            "Iris-versicolor    50\n",
            "Iris-virginica     50\n",
            "Name: count, dtype: int64\n"
          ]
        }
      ]
    },
    {
      "cell_type": "markdown",
      "source": [
        "**문제 7: 특정 조건의 데이터 찾기**\n",
        "- 꽃잎 길이가 2.0보다 큰 데이터는 몇 개인지 찾아보세요\n",
        "- 꽃받침 너비가 3.5보다 큰 데이터를 찾아보세요\n"
      ],
      "metadata": {
        "id": "AZBPJslLEqXc"
      }
    },
    {
      "cell_type": "code",
      "source": [
        "#꽃잎 길이 > 2.0\n",
        "iris_PetalLengthCm_2 = (iris['PetalLengthCm'] > 2.0).sum()\n",
        "print(f'꽃잎 길이가 2.0보다 큰 데이터: {iris_PetalLengthCm_2}')\n",
        "\n",
        "#꽃받침 너비 > 3.5\n",
        "iris_SepalWidthCm_3 = (iris['SepalWidthCm'] > 3.5).sum()\n",
        "print(f'꽃받침 너비가 3.5보다 큰 데이터: {iris_SepalWidthCm_3}')\n"
      ],
      "metadata": {
        "colab": {
          "base_uri": "https://localhost:8080/"
        },
        "id": "SVUvG7jSE8XE",
        "outputId": "61d5ff24-c4e5-4797-f019-7609ffd4e16a"
      },
      "execution_count": 11,
      "outputs": [
        {
          "output_type": "stream",
          "name": "stdout",
          "text": [
            "꽃잎 길이가 2.0보다 큰 데이터: 100\n",
            "꽃받침 너비가 3.5보다 큰 데이터: 18\n"
          ]
        }
      ]
    },
    {
      "cell_type": "markdown",
      "source": [
        "**문제 8: 특정 붓꽃 종류만 보기**\n",
        "- ‘ris-versicolor' 종류만 골라서 평균 꽃잎 길이를 구해보세요\n",
        "- 'Iris-virginica' 종류의 최대 꽃받침 너비를 찾아보세요"
      ],
      "metadata": {
        "id": "stOvjIcnEros"
      }
    },
    {
      "cell_type": "code",
      "source": [
        "#‘ris-versicolor' 종류만 골라서 평균 꽃잎 길이\n",
        "ris_versicolor = iris[iris['Species'] == 'Iris-versicolor']\n",
        "ris_versicolor_mean = ris_versicolor['PetalLengthCm'].mean()\n",
        "print(f'‘ris-versicolor’ 종류의 평균 꽃잎 길이: {ris_versicolor_mean.round(2)}')\n",
        "\n",
        "#'Iris-virginica' 종류의 최대 꽃받침 너비\n",
        "iris_virginica = iris[iris['Species'] == 'Iris-virginica']\n",
        "iris_virginica_max = iris_virginica['SepalWidthCm'].max()\n",
        "print(f'‘Iris-virginica’ 종류의 최대 꽃받침 너비: {iris_virginica_max}')"
      ],
      "metadata": {
        "colab": {
          "base_uri": "https://localhost:8080/"
        },
        "id": "cre5j4gmGIwV",
        "outputId": "91d742f8-415a-4e60-bd67-e5daebea5927"
      },
      "execution_count": 12,
      "outputs": [
        {
          "output_type": "stream",
          "name": "stdout",
          "text": [
            "‘ris-versicolor’ 종류의 평균 꽃잎 길이: 4.26\n",
            "‘Iris-virginica’ 종류의 최대 꽃받침 너비: 3.8\n"
          ]
        }
      ]
    },
    {
      "cell_type": "markdown",
      "source": [
        "**문제 9: 첫 번째 그래프 그리기**\n",
        "- 꽃잎 길이의 히스토그램도 그려보세요\n",
        "- 어떤 구간에 데이터가 가장 많은지 관찰해보세요\n"
      ],
      "metadata": {
        "id": "qLumJjk_Esu0"
      }
    },
    {
      "cell_type": "code",
      "source": [
        "import matplotlib.pyplot as plt\n",
        "\n",
        "plt.hist(iris['PetalLengthCm'], bins=10) # 데이터, 구간(bin) 개수 설정\n",
        "plt.xlabel('Petal Length')\n",
        "plt.ylabel('Frequency')\n",
        "plt.title('Petal Length')\n",
        "plt.show()"
      ],
      "metadata": {
        "colab": {
          "base_uri": "https://localhost:8080/",
          "height": 472
        },
        "id": "STyKERkfGoB1",
        "outputId": "0534c01a-3b08-4c66-a8f4-f57a3779ef23"
      },
      "execution_count": 13,
      "outputs": [
        {
          "output_type": "display_data",
          "data": {
            "text/plain": [
              "<Figure size 640x480 with 1 Axes>"
            ],
            "image/png": "[encoded data removed]"
          },
          "metadata": {}
        }
      ]
    },
    {
      "cell_type": "markdown",
      "source": [
        "**문제 10: 산점도 그리기**\n",
        "- 꽃잎 길이와 너비의 산점도도 그려보세요\n",
        "- 길이가 길수록 너비도 넓어지는지 관찰해보세요"
      ],
      "metadata": {
        "id": "KcuZCBpZEt3N"
      }
    },
    {
      "cell_type": "code",
      "source": [
        "plt.scatter(iris['PetalLengthCm'],iris['PetalWidthCm'])\n",
        "plt.xlabel('Petal Length')\n",
        "plt.ylabel('Petal Width')\n",
        "plt.title('Petal Length vs Width')\n",
        "plt.grid(True, alpha=0.7)\n",
        "plt.show()"
      ],
      "metadata": {
        "colab": {
          "base_uri": "https://localhost:8080/",
          "height": 472
        },
        "id": "clwtlNqCIe99",
        "outputId": "2de1f944-26a7-41d7-b6a6-bbf2e28fa1fa"
      },
      "execution_count": 14,
      "outputs": [
        {
          "output_type": "display_data",
          "data": {
            "text/plain": [
              "<Figure size 640x480 with 1 Axes>"
            ],
            "image/png": "[encoded data removed]"
          },
          "metadata": {}
        }
      ]
    },
    {
      "cell_type": "markdown",
      "source": [
        "**문제 11: 붓꽃 종류별로 다른 색깔로 산점도 그리기**\n",
        "- 어떤 종류가 가장 구별되어 보이나요?\n",
        "- 서로 겹치는 종류가 있나요?\n"
      ],
      "metadata": {
        "id": "vER3KtQmJSmu"
      }
    },
    {
      "cell_type": "code",
      "source": [
        "plt.scatter(iris[iris['Species'] == 'Iris-setosa']['PetalLengthCm'], iris[iris['Species'] == 'Iris-setosa']['PetalWidthCm'], label='Iris-setosa')\n",
        "plt.scatter(iris[iris['Species'] == 'Iris-versicolor']['PetalLengthCm'], iris[iris['Species'] == 'Iris-versicolor']['PetalWidthCm'], label='Iris-versicolor')\n",
        "plt.scatter(iris[iris['Species'] == 'Iris-virginica']['PetalLengthCm'], iris[iris['Species'] == 'Iris-virginica']['PetalWidthCm'], label='Iris-virginica')\n",
        "plt.xlabel('Petal Length')\n",
        "plt.ylabel('Petal Width')\n",
        "plt.title('Petal Length vs Width')\n",
        "plt.legend()\n",
        "plt.grid(True, alpha=0.7)\n",
        "plt.show()"
      ],
      "metadata": {
        "colab": {
          "base_uri": "https://localhost:8080/",
          "height": 472
        },
        "id": "QmyCcffBI42-",
        "outputId": "ff5114d8-72a5-47a1-dfcf-0ff879214e69"
      },
      "execution_count": 15,
      "outputs": [
        {
          "output_type": "display_data",
          "data": {
            "text/plain": [
              "<Figure size 640x480 with 1 Axes>"
            ],
            "image/png": "[encoded data removed]"
          },
          "metadata": {}
        }
      ]
    },
    {
      "cell_type": "code",
      "source": [
        "plt.scatter(iris[iris['Species'] == 'Iris-setosa']['SepalLengthCm'], iris[iris['Species'] == 'Iris-setosa']['SepalWidthCm'], label='Iris-setosa')\n",
        "plt.scatter(iris[iris['Species'] == 'Iris-versicolor']['SepalLengthCm'], iris[iris['Species'] == 'Iris-versicolor']['SepalWidthCm'], label='Iris-versicolor')\n",
        "plt.scatter(iris[iris['Species'] == 'Iris-virginica']['SepalLengthCm'], iris[iris['Species'] == 'Iris-virginica']['SepalWidthCm'], label='Iris-virginica')\n",
        "plt.xlabel('Sepal Length')\n",
        "plt.ylabel('Sepal Width')\n",
        "plt.title('Sepal Length vs Width')\n",
        "plt.legend()\n",
        "plt.grid(True, alpha=0.7)\n",
        "plt.show()"
      ],
      "metadata": {
        "colab": {
          "base_uri": "https://localhost:8080/",
          "height": 472
        },
        "id": "Fe1bu8g2KMbe",
        "outputId": "5b314d46-6aaa-48f6-e4fd-36c119f8019f"
      },
      "execution_count": 16,
      "outputs": [
        {
          "output_type": "display_data",
          "data": {
            "text/plain": [
              "<Figure size 640x480 with 1 Axes>"
            ],
            "image/png": "[encoded data removed]"
          },
          "metadata": {}
        }
      ]
    },
    {
      "cell_type": "markdown",
      "source": [
        "**문제 12: 종류별 평균 비교하기**\n",
        "- 어떤 종류가 꽃받침이 가장 긴가요?\n",
        "- 어떤 종류가 꽃잎이 가장 넓은가요?\n",
        "- 결과를 표로 정리해보세요\n"
      ],
      "metadata": {
        "id": "Xf1HrRgUJUFF"
      }
    },
    {
      "cell_type": "code",
      "source": [
        "# 붓꽃 종류별로 그룹화하고 각 열의 평균 계산\n",
        "species_mean = iris.groupby('Species')[['SepalLengthCm', 'PetalWidthCm']].mean()\n",
        "\n",
        "# 결과를 표 형태로 출력\n",
        "print(\"붓꽃 종류별 평균 비교:\")\n",
        "print(species_mean)"
      ],
      "metadata": {
        "colab": {
          "base_uri": "https://localhost:8080/"
        },
        "id": "LfTABdeLKi7l",
        "outputId": "19211c58-9805-43f2-9641-56b6e4258942"
      },
      "execution_count": 17,
      "outputs": [
        {
          "output_type": "stream",
          "name": "stdout",
          "text": [
            "붓꽃 종류별 평균 비교:\n",
            "                 SepalLengthCm  PetalWidthCm\n",
            "Species                                     \n",
            "Iris-setosa              5.006         0.244\n",
            "Iris-versicolor          5.936         1.326\n",
            "Iris-virginica           6.588         2.026\n"
          ]
        }
      ]
    },
    {
      "cell_type": "markdown",
      "source": [
        "**문제 13: 막대그래프로 평균 비교하기**\n",
        "- 꽃잎 길이의 평균도 막대그래프로 그려보세요\n",
        "- 가장 큰 차이를 보이는 측정값이 무엇인지 찾아보세요\n"
      ],
      "metadata": {
        "id": "Zw39AUj0JVc1"
      }
    },
    {
      "cell_type": "code",
      "source": [
        "# 붓꽃 종류별 평균 꽃잎 길이 계산\n",
        "PetalLengthCm_mean = iris.groupby('Species')['PetalLengthCm'].mean()\n",
        "\n",
        "plt.figure(figsize=(8, 6))\n",
        "PetalLengthCm_mean.plot(kind='bar')\n",
        "plt.title('Average Petal Length by Species')\n",
        "plt.xlabel('Species')\n",
        "plt.ylabel('Average Petal Length (cm)')\n",
        "plt.xticks(rotation=45, ha='right') # x축 라벨 회전\n",
        "plt.tight_layout() # 그래프 여백 조정\n",
        "plt.show()\n"
      ],
      "metadata": {
        "id": "giha4aEbLKvG",
        "colab": {
          "base_uri": "https://localhost:8080/",
          "height": 607
        },
        "outputId": "f60b2f68-032d-40ed-84e2-eae571c339d0"
      },
      "execution_count": 19,
      "outputs": [
        {
          "output_type": "display_data",
          "data": {
            "text/plain": [
              "<Figure size 800x600 with 1 Axes>"
            ],
            "image/png": "[encoded data removed]"
          },
          "metadata": {}
        }
      ]
    },
    {
      "cell_type": "markdown",
      "source": [
        "문제 14: 박스플롯으로 분포 비교하기\n",
        "- 어떤 종류가 가장 넓은 범위의 값을 가지나요?\n",
        "- 이상하게 튀는 값(점으로 표시)이 있나요?\n"
      ],
      "metadata": {
        "id": "XdE3asbgJWfd"
      }
    },
    {
      "cell_type": "code",
      "source": [
        "# 붓꽃 종류별 PetalLengthCm 값 리스트 생성\n",
        "setosa_PL = iris[iris['Species'] == 'Iris-setosa']['PetalLengthCm']\n",
        "versicolor_PL = iris[iris['Species'] == 'Iris-versicolor']['PetalLengthCm']\n",
        "virginica_PL = iris[iris['Species'] == 'Iris-virginica']['PetalLengthCm']\n",
        "\n",
        "data = [setosa_PL, versicolor_PL, virginica_PL]\n",
        "\n",
        "plt.figure(figsize=(8, 6))\n",
        "plt.boxplot(data, labels=['Iris-setosa', 'Iris-versicolor', 'Iris-virginica'])\n",
        "plt.title('Petal Length Distribution by Species')\n",
        "plt.xlabel('Species')\n",
        "plt.ylabel('Petal Length (cm)')\n",
        "plt.grid(True, alpha=0.7)\n",
        "plt.show()"
      ],
      "metadata": {
        "colab": {
          "base_uri": "https://localhost:8080/",
          "height": 619
        },
        "id": "trQ_1mdac_5E",
        "outputId": "cf11bee7-e5c8-4992-d7ad-031add460110"
      },
      "execution_count": 22,
      "outputs": [
        {
          "output_type": "stream",
          "name": "stderr",
          "text": [
            "<ipython-input-22-77efe75c4940>:9: MatplotlibDeprecationWarning: The 'labels' parameter of boxplot() has been renamed 'tick_labels' since Matplotlib 3.9; support for the old name will be dropped in 3.11.\n",
            "  plt.boxplot(data, labels=['Iris-setosa', 'Iris-versicolor', 'Iris-virginica'])\n"
          ]
        },
        {
          "output_type": "display_data",
          "data": {
            "text/plain": [
              "<Figure size 800x600 with 1 Axes>"
            ],
            "image/png": "[encoded data removed]"
          },
          "metadata": {}
        }
      ]
    },
    {
      "cell_type": "markdown",
      "source": [
        "문제 15: 새로운 값 계산하기\n",
        "- 어떤 종류가 꽃받침 면적이 가장 큰가요?\n",
        "- 어떤 종류가 꽃잎 면적이 가장 큰가요?\n"
      ],
      "metadata": {
        "id": "2rhSEN-sJXs-"
      }
    },
    {
      "cell_type": "code",
      "source": [
        "# 꽃받침 면적 계산 및 추가\n",
        "iris['SepalArea'] = iris['SepalLengthCm'] * iris['SepalWidthCm']\n",
        "\n",
        "# 꽃잎 면적 계산 및 추가\n",
        "iris['PetalArea'] = iris['PetalLengthCm'] * iris['PetalWidthCm']\n",
        "\n",
        "# 붓꽃 종류별 평균 꽃받침 및 꽃잎 면적 계산\n",
        "species_area_mean = iris.groupby('Species')[['SepalArea', 'PetalArea']].mean()\n",
        "\n",
        "# 결과 출력\n",
        "print(\"붓꽃 종류별 평균 면적 비교:\")\n",
        "print(species_area_mean)\n",
        "\n",
        "# 어떤 종류의 꽃받침 면적이 가장 큰가요?\n",
        "print(\"\\n꽃받침 면적이 가장 큰 종류:\")\n",
        "print(species_area_mean['SepalArea'].idxmax())\n",
        "\n",
        "# 어떤 종류의 꽃잎 면적이 가장 큰가요?\n",
        "print(\"\\n꽃잎 면적이 가장 큰 종류:\")\n",
        "print(species_area_mean['PetalArea'].idxmax())"
      ],
      "metadata": {
        "colab": {
          "base_uri": "https://localhost:8080/"
        },
        "id": "TXo3u_P6fANd",
        "outputId": "c49b9d01-79c0-4fa5-bde3-858804129f1a"
      },
      "execution_count": 23,
      "outputs": [
        {
          "output_type": "stream",
          "name": "stdout",
          "text": [
            "붓꽃 종류별 평균 면적 비교:\n",
            "                 SepalArea  PetalArea\n",
            "Species                              \n",
            "Iris-setosa        17.2088     0.3628\n",
            "Iris-versicolor    16.5262     5.7204\n",
            "Iris-virginica     19.6846    11.2962\n",
            "\n",
            "꽃받침 면적이 가장 큰 종류:\n",
            "Iris-virginica\n",
            "\n",
            "꽃잎 면적이 가장 큰 종류:\n",
            "Iris-virginica\n"
          ]
        }
      ]
    },
    {
      "cell_type": "markdown",
      "source": [
        "문제 16: 데이터 필터링\n",
        "- 꽃받침 너비가 3.0 이상이고 꽃잎 너비가 1.5 이상인 데이터를 찾아보세요\n",
        "- 그 데이터들은 주로 어떤 종류인가요?\n"
      ],
      "metadata": {
        "id": "GbxZvQjkJZJN"
      }
    },
    {
      "cell_type": "code",
      "source": [
        "#꽃받침 너비 >= 3.0 and 꽃잎 너비 >= 1.5\n",
        "# 조건에 맞는 행을 나타내는 boolean Series 생성\n",
        "filter_condition = (iris['SepalWidthCm'] >= 3.0) & (iris['PetalWidthCm'] >= 1.5)\n",
        "\n",
        "# 조건에 맞는 데이터의 개수를 출력 (선택 사항)\n",
        "iris_SW3_PW1_count = filter_condition.sum()\n",
        "print(f'꽃받침 너비가 3.0 이상이고 꽃잎 너비가 1.5 이상인 데이터: {iris_SW3_PW1_count}')\n",
        "\n",
        "# 조건에 맞는 데이터 필터링\n",
        "filtered_iris = iris[filter_condition]\n",
        "\n",
        "# 필터링된 데이터에서 종별 개수 계산\n",
        "species_counts = filtered_iris.groupby('Species').size()\n",
        "\n",
        "# 결과 출력\n",
        "print(\"\\n꽃받침 너비 3.0 이상, 꽃잎 너비 1.5 이상 데이터의 종별 개수:\")\n",
        "print(species_counts)"
      ],
      "metadata": {
        "colab": {
          "base_uri": "https://localhost:8080/"
        },
        "id": "rWu-6jw-gd9N",
        "outputId": "07b3e81a-b3e9-4aca-ac16-0c3a39eb1fcb"
      },
      "execution_count": 27,
      "outputs": [
        {
          "output_type": "stream",
          "name": "stdout",
          "text": [
            "꽃받침 너비가 3.0 이상이고 꽃잎 너비가 1.5 이상인 데이터: 39\n",
            "\n",
            "꽃받침 너비 3.0 이상, 꽃잎 너비 1.5 이상 데이터의 종별 개수:\n",
            "Species\n",
            "Iris-versicolor    10\n",
            "Iris-virginica     29\n",
            "dtype: int64\n"
          ]
        }
      ]
    },
    {
      "cell_type": "markdown",
      "source": [
        "문제 17: 순위 매기기\n",
        "- top 10에 가장 많이 포함된 종류는?\n",
        "- 가장 적게 포함된 종류는?"
      ],
      "metadata": {
        "id": "DQrHzm7kJa7l"
      }
    },
    {
      "cell_type": "code",
      "source": [
        "# 각 붓꽃 종류별로 SepalLengthCm 기준으로 순위 매기기 (내림차순)\n",
        "iris['SepalLengthCm_Rank'] = iris.groupby('Species')['SepalLengthCm'].rank(method='min', ascending=False)\n",
        "\n",
        "# 각 붓꽃 종류별로 PetalWidthCm 기준으로 순위 매기기 (내림차순)\n",
        "iris['PetalWidthCm_Rank'] = iris.groupby('Species')['PetalWidthCm'].rank(method='min', ascending=False)\n",
        "\n",
        "# SepalLengthCm 상위 10개 데이터 필터링\n",
        "top10_sepal_length = iris.nlargest(10, 'SepalLengthCm')\n",
        "\n",
        "# PetalWidthCm 상위 10개 데이터 필터링\n",
        "top10_petal_width = iris.nlargest(10, 'PetalWidthCm')\n",
        "\n",
        "print(\"SepalLengthCm 상위 10개 데이터의 붓꽃 종류 분포:\")\n",
        "print(top10_sepal_length['Species'].value_counts())\n",
        "\n",
        "print(\"\\nPetalWidthCm 상위 10개 데이터의 붓꽃 종류 분포:\")\n",
        "print(top10_petal_width['Species'].value_counts())\n",
        "\n",
        "# SepalLengthCm 기준으로 top 10에 가장 많이 포함된 종류\n",
        "most_common_sepal = top10_sepal_length['Species'].value_counts().idxmax()\n",
        "print(f\"\\nSepalLengthCm 기준으로 top 10에 가장 많이 포함된 종류: {most_common_sepal}\")\n",
        "\n",
        "# SepalLengthCm 기준으로 top 10에 가장 적게 포함된 종류 (0개 포함)\n",
        "sepal_counts = top10_sepal_length['Species'].value_counts()\n",
        "least_common_sepal = sepal_counts.idxmin() if len(sepal_counts) > 0 else \"모든 종류가 포함되지 않음\"\n",
        "print(f\"SepalLengthCm 기준으로 top 10에 가장 적게 포함된 종류: {least_common_sepal}\")\n",
        "\n",
        "# PetalWidthCm 기준으로 top 10에 가장 많이 포함된 종류\n",
        "most_common_petal = top10_petal_width['Species'].value_counts().idxmax()\n",
        "print(f\"\\nPetalWidthCm 기준으로 top 10에 가장 많이 포함된 종류: {most_common_petal}\")\n",
        "\n",
        "# PetalWidthCm 기준으로 top 10에 가장 적게 포함된 종류 (0개 포함)\n",
        "petal_counts = top10_petal_width['Species'].value_counts()\n",
        "least_common_petal = petal_counts.idxmin() if len(petal_counts) > 0 else \"모든 종류가 포함되지 않음\"\n",
        "print(f\"PetalWidthCm 기준으로 top 10에 가장 적게 포함된 종류: {least_common_petal}\")"
      ],
      "metadata": {
        "colab": {
          "base_uri": "https://localhost:8080/"
        },
        "id": "D7he616Bjgf4",
        "outputId": "e5f88bea-c5ab-4549-defe-cbea761bd076"
      },
      "execution_count": 28,
      "outputs": [
        {
          "output_type": "stream",
          "name": "stdout",
          "text": [
            "SepalLengthCm 상위 10개 데이터의 붓꽃 종류 분포:\n",
            "Species\n",
            "Iris-virginica    10\n",
            "Name: count, dtype: int64\n",
            "\n",
            "PetalWidthCm 상위 10개 데이터의 붓꽃 종류 분포:\n",
            "Species\n",
            "Iris-virginica    10\n",
            "Name: count, dtype: int64\n",
            "\n",
            "SepalLengthCm 기준으로 top 10에 가장 많이 포함된 종류: Iris-virginica\n",
            "SepalLengthCm 기준으로 top 10에 가장 적게 포함된 종류: Iris-virginica\n",
            "\n",
            "PetalWidthCm 기준으로 top 10에 가장 많이 포함된 종류: Iris-virginica\n",
            "PetalWidthCm 기준으로 top 10에 가장 적게 포함된 종류: Iris-virginica\n"
          ]
        }
      ]
    }
  ]
}