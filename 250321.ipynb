{
 "cells": [
  {
   "cell_type": "code",
   "execution_count": 3,
   "id": "13b1c5bb-a764-4d3a-90d6-b190c0177896",
   "metadata": {},
   "outputs": [
    {
     "name": "stdin",
     "output_type": "stream",
     "text": [
      "나이를 입력하세요: 24\n"
     ]
    },
    {
     "name": "stdout",
     "output_type": "stream",
     "text": [
      "당신은 내년에 25 살입니다.\n"
     ]
    }
   ],
   "source": [
    "age = input(\"나이를 입력하세요:\") #age는 문자열!\n",
    "age = int(age) #숫자로 변경!\n",
    "print(\"당신은 내년에\", age + 1, \"살입니다.\")"
   ]
  },
  {
   "cell_type": "code",
   "execution_count": 4,
   "id": "81336f4c-a680-4219-9f30-cf4b2ac185c0",
   "metadata": {},
   "outputs": [
    {
     "name": "stdin",
     "output_type": "stream",
     "text": [
      "나이를 입력하세요: 24\n"
     ]
    },
    {
     "name": "stdout",
     "output_type": "stream",
     "text": [
      "당신은 내년에 25 살입니다.\n"
     ]
    }
   ],
   "source": [
    "age = input(\"나이를 입력하세요:\") #age는 문자열!\n",
    "age = int(age) #숫자로 변경!\n",
    "age = age + 1\n",
    "print(\"당신은 내년에\", age, \"살입니다.\")"
   ]
  },
  {
   "cell_type": "code",
   "execution_count": 5,
   "id": "78e062a7-06f9-4f57-8e85-ea5e234b23e4",
   "metadata": {},
   "outputs": [
    {
     "name": "stdin",
     "output_type": "stream",
     "text": [
      "나이를 입력하세요: 24\n"
     ]
    },
    {
     "ename": "TypeError",
     "evalue": "can only concatenate str (not \"int\") to str",
     "output_type": "error",
     "traceback": [
      "\u001b[0;31m---------------------------------------------------------------------------\u001b[0m",
      "\u001b[0;31mTypeError\u001b[0m                                 Traceback (most recent call last)",
      "Cell \u001b[0;32mIn[5], line 3\u001b[0m\n\u001b[1;32m      1\u001b[0m age \u001b[38;5;241m=\u001b[39m \u001b[38;5;28minput\u001b[39m(\u001b[38;5;124m\"\u001b[39m\u001b[38;5;124m나이를 입력하세요:\u001b[39m\u001b[38;5;124m\"\u001b[39m) \u001b[38;5;66;03m#age는 문자열!\u001b[39;00m\n\u001b[1;32m      2\u001b[0m \u001b[38;5;66;03m#age = int(age) #숫자로 변경!\u001b[39;00m\n\u001b[0;32m----> 3\u001b[0m \u001b[38;5;28mprint\u001b[39m(\u001b[38;5;124m\"\u001b[39m\u001b[38;5;124m당신은 내년에\u001b[39m\u001b[38;5;124m\"\u001b[39m, \u001b[43mage\u001b[49m\u001b[43m \u001b[49m\u001b[38;5;241;43m+\u001b[39;49m\u001b[43m \u001b[49m\u001b[38;5;241;43m1\u001b[39;49m, \u001b[38;5;124m\"\u001b[39m\u001b[38;5;124m살입니다.\u001b[39m\u001b[38;5;124m\"\u001b[39m)\n",
      "\u001b[0;31mTypeError\u001b[0m: can only concatenate str (not \"int\") to str"
     ]
    }
   ],
   "source": [
    "age = input(\"나이를 입력하세요:\") #age는 문자열!\n",
    "#age = int(age) #숫자로 변경!\n",
    "print(\"당신은 내년에\", age + 1, \"살입니다.\")"
   ]
  },
  {
   "cell_type": "code",
   "execution_count": 6,
   "id": "1e4d1a79-7406-4946-8dc2-434979d08749",
   "metadata": {},
   "outputs": [
    {
     "name": "stdin",
     "output_type": "stream",
     "text": [
      "나이를 입력하세요: 24\n"
     ]
    },
    {
     "name": "stdout",
     "output_type": "stream",
     "text": [
      "당신은 내년에 25 살입니다.\n"
     ]
    }
   ],
   "source": [
    "age = int(input(\"나이를 입력하세요:\")) #age는 문자열!\n",
    "print(\"당신은 내년에\", age + 1, \"살입니다.\")"
   ]
  },
  {
   "cell_type": "code",
   "execution_count": 7,
   "id": "e2b91fa1-5b8b-45f2-9a72-e8cc1a9592be",
   "metadata": {},
   "outputs": [
    {
     "name": "stdin",
     "output_type": "stream",
     "text": [
      "나이를 입력하세요: 24\n"
     ]
    },
    {
     "name": "stdout",
     "output_type": "stream",
     "text": [
      "당신은 내년에 25.0 살입니다.\n"
     ]
    }
   ],
   "source": [
    "age = float(input(\"나이를 입력하세요:\")) #age는 문자열!\n",
    "print(\"당신은 내년에\", age + 1, \"살입니다.\")"
   ]
  },
  {
   "cell_type": "code",
   "execution_count": 10,
   "id": "344a5b19-e000-4ef8-87ea-d9145ddb1d79",
   "metadata": {},
   "outputs": [
    {
     "name": "stdin",
     "output_type": "stream",
     "text": [
      "나이를 입력하세요: 24\n"
     ]
    },
    {
     "name": "stdout",
     "output_type": "stream",
     "text": [
      "24살입니다.\n"
     ]
    }
   ],
   "source": [
    "age = int(input(\"나이를 입력하세요:\")) #age는 문자열!\n",
    "print(str(age)+\"살입니다.\")"
   ]
  },
  {
   "cell_type": "code",
   "execution_count": 12,
   "id": "127bec72-229f-44a4-adf8-ac2e286775b4",
   "metadata": {},
   "outputs": [
    {
     "name": "stdout",
     "output_type": "stream",
     "text": [
      "좋아요, 합격입니다!\n"
     ]
    }
   ],
   "source": [
    "score = 78\n",
    "\n",
    "if score >= 90:\n",
    "    print(\"정말 잘했어요!\")\n",
    "elif score > 60:\n",
    "    print(\"좋아요, 합격입니다!\")\n",
    "else:\n",
    "    print(\"다음에 더 잘해봐요!\")"
   ]
  },
  {
   "cell_type": "code",
   "execution_count": 16,
   "id": "3fe182da-05aa-491d-8333-3e2397cc7016",
   "metadata": {},
   "outputs": [
    {
     "name": "stdin",
     "output_type": "stream",
     "text": [
      "숫자를 입력하세요. -6\n"
     ]
    },
    {
     "name": "stdout",
     "output_type": "stream",
     "text": [
      "음수입니다.\n"
     ]
    }
   ],
   "source": [
    "num = input(\"숫자를 입력하세요.\")\n",
    "num = int(num)\n",
    "if num > 0:\n",
    "    print(\"양수입니다.\")\n",
    "elif num < 0:\n",
    "    print(\"음수입니다.\")\n",
    "else:\n",
    "    print(\"0 입니다.\")"
   ]
  },
  {
   "cell_type": "code",
   "execution_count": 19,
   "id": "3328c110-810e-46b0-9909-92e84910ac32",
   "metadata": {},
   "outputs": [
    {
     "name": "stdin",
     "output_type": "stream",
     "text": [
      "숫자를 입력하세요. 7\n"
     ]
    },
    {
     "name": "stdout",
     "output_type": "stream",
     "text": [
      "홀수입니다.\n"
     ]
    }
   ],
   "source": [
    "num = input(\"숫자를 입력하세요.\")\n",
    "num = int(num)\n",
    "if num % 2 == 0:\n",
    "    print(\"짝수입니다.\")\n",
    "else:\n",
    "    print(\"홀수입니다.\")"
   ]
  },
  {
   "cell_type": "code",
   "execution_count": 21,
   "id": "548936e2-536c-460f-af13-bc35aa825ca7",
   "metadata": {},
   "outputs": [
    {
     "name": "stdin",
     "output_type": "stream",
     "text": [
      "A의 숫자를 입력하세요. 2\n",
      "B의 숫자를 입력하세요. 3\n"
     ]
    },
    {
     "name": "stdout",
     "output_type": "stream",
     "text": [
      "B승A패\n"
     ]
    }
   ],
   "source": [
    "a = int(input(\"A의 숫자를 입력하세요.\"))\n",
    "b = int(input(\"B의 숫자를 입력하세요.\"))\n",
    "\n",
    "if a == 1 and b == 3:\n",
    "    print(\"A승B패\")\n",
    "elif a == 2 and b == 2:\n",
    "    print(\"무승부\")\n",
    "elif a ==2 and b == 3:\n",
    "    print(\"B승A패\")\n",
    "else:\n",
    "    print(\"잘못된 입력\")"
   ]
  },
  {
   "cell_type": "code",
   "execution_count": 24,
   "id": "9d8f13c3-9c5d-4f01-bd41-60a009393d46",
   "metadata": {},
   "outputs": [
    {
     "name": "stdin",
     "output_type": "stream",
     "text": [
      "A와 B의 숫자를 입력하세요. 3 1\n"
     ]
    }
   ],
   "source": [
    "a,b = map(int, input(\"A와 B의 숫자를 입력하세요.\").split())\n",
    "\n",
    "#만약, 실수의 범위로 정하고 싶다면 int 대신 float를 입력한다.\n",
    "#input은 그냥 문자열의 성질을 가지고 있기 때문에 a,b = input().split() 으로 작성하면 자동으로 문자열로 인식한다.\n",
    "#split()은, 괄호 안의 기호로 구분하는 것이다. 예를 들어, split(,)를 입력한 경우, '2,3'과 같이 입력해야 한다."
   ]
  },
  {
   "cell_type": "code",
   "execution_count": 34,
   "id": "9a87adad-d397-4dac-984b-0f23fa7d0f2c",
   "metadata": {},
   "outputs": [
    {
     "name": "stdin",
     "output_type": "stream",
     "text": [
      " 1 2\n"
     ]
    },
    {
     "name": "stdout",
     "output_type": "stream",
     "text": [
      "B승A패\n"
     ]
    }
   ],
   "source": [
    "a,b = map(int, input().split())\n",
    "\n",
    "if a == b:\n",
    "    print(\"무승부\")\n",
    "elif (a == 1 and b == 2) or (a == 2 and b == 3) or (a == 3 and b == 1):\n",
    "    print(\"B승A패\")\n",
    "elif (a == 1 and b == 3) or (a == 2 and b == 1) or (a == 3 and b == 1):\n",
    "    print(\"A승B패\")\n",
    "else:\n",
    "    print(\"잘못된입력\")"
   ]
  }
 ],
 "metadata": {
  "kernelspec": {
   "display_name": "Python 3 (ipykernel)",
   "language": "python",
   "name": "python3"
  },
  "language_info": {
   "codemirror_mode": {
    "name": "ipython",
    "version": 3
   },
   "file_extension": ".py",
   "mimetype": "text/x-python",
   "name": "python",
   "nbconvert_exporter": "python",
   "pygments_lexer": "ipython3",
   "version": "3.12.6"
  }
 },
 "nbformat": 4,
 "nbformat_minor": 5
}
