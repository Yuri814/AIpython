{
 "cells": [
  {
   "cell_type": "code",
   "execution_count": 5,
   "id": "d4835e09-76f4-4520-b1ba-caa74a9f8955",
   "metadata": {},
   "outputs": [
    {
     "name": "stdout",
     "output_type": "stream",
     "text": [
      "남자\n"
     ]
    }
   ],
   "source": [
    "id = '250411-3987654'\n",
    "\n",
    "if id[7] == '1' or id[7] == '3':\n",
    "    print(\"남자\")\n",
    "else:\n",
    "    print(\"여자\")\n",
    "    "
   ]
  },
  {
   "cell_type": "code",
   "execution_count": 8,
   "id": "42a243f2-8b96-4dd8-90d2-d394125b3bf1",
   "metadata": {},
   "outputs": [
    {
     "name": "stdin",
     "output_type": "stream",
     "text": [
      "문자열:  abcdefghijklmnop\n"
     ]
    },
    {
     "name": "stdout",
     "output_type": "stream",
     "text": [
      "ponmlkjihgfedcba"
     ]
    }
   ],
   "source": [
    "s = input('문자열: ')\n",
    "\n",
    "for i in range(len(s)-1,-1,-1):\n",
    "    print(s[i],end='')"
   ]
  },
  {
   "cell_type": "code",
   "execution_count": 7,
   "id": "6ed0303c-9b83-4ef3-9ff5-b8eed6e9bcec",
   "metadata": {},
   "outputs": [
    {
     "name": "stdin",
     "output_type": "stream",
     "text": [
      "문자열:  avbva\n"
     ]
    },
    {
     "name": "stdout",
     "output_type": "stream",
     "text": [
      "회문\n"
     ]
    }
   ],
   "source": [
    "s1 = input('문자열: ')\n",
    "s2 = ''\n",
    "\n",
    "for i in range(len(s1)-1, -1, -1):\n",
    "    s2 = s2 + s1[i]\n",
    "\n",
    "if s1 == s2:\n",
    "    print('회문')\n",
    "else:\n",
    "    print('회문 아님')"
   ]
  },
  {
   "cell_type": "code",
   "execution_count": 9,
   "id": "f3a63dbb-a4d7-4aa6-b719-0233405c6a24",
   "metadata": {},
   "outputs": [
    {
     "name": "stdout",
     "output_type": "stream",
     "text": [
      "I WANT TO GO HOME\n"
     ]
    }
   ],
   "source": [
    "s = 'i want to go home'\n",
    "print(s.upper())"
   ]
  },
  {
   "cell_type": "code",
   "execution_count": 12,
   "id": "8ed1778e-3a0b-414e-9715-8a64831159c7",
   "metadata": {},
   "outputs": [
    {
     "name": "stdin",
     "output_type": "stream",
     "text": [
      "영어 단어 또는 exit:  HELLO\n",
      "영어 단어 또는 exit:  PYTHON\n",
      "영어 단어 또는 exit:  exit\n"
     ]
    },
    {
     "name": "stdout",
     "output_type": "stream",
     "text": [
      "hello\n",
      "python\n"
     ]
    }
   ],
   "source": [
    "lower_list = []\n",
    "\n",
    "while True:\n",
    "    s = input('영어 단어 또는 exit: ')\n",
    "    if s == 'exit':\n",
    "        break\n",
    "    lower_list.append(s.lower())\n",
    "for a in lower_list:\n",
    "    print(a)"
   ]
  },
  {
   "cell_type": "code",
   "execution_count": 14,
   "id": "96e50f1a-4043-47cd-ae4e-e5e33e1deeb4",
   "metadata": {},
   "outputs": [
    {
     "name": "stdin",
     "output_type": "stream",
     "text": [
      "문자열:  희망찬 대한민국\n"
     ]
    },
    {
     "name": "stdout",
     "output_type": "stream",
     "text": [
      "포함\n"
     ]
    }
   ],
   "source": [
    "s = input('문자열: ')\n",
    "if s.find('희망') != -1:\n",
    "    print('포함')\n",
    "else:\n",
    "    print('포함하지 않음')"
   ]
  },
  {
   "cell_type": "code",
   "execution_count": 15,
   "id": "a525881e-e05f-42f3-b8b0-f21ecdfc77f0",
   "metadata": {},
   "outputs": [
    {
     "name": "stdout",
     "output_type": "stream",
     "text": [
      "['부산시', '금정구']\n"
     ]
    }
   ],
   "source": [
    "s = '부산시 금정구'\n",
    "print(s.split(' '))"
   ]
  },
  {
   "cell_type": "code",
   "execution_count": 18,
   "id": "ba6538b7-d8df-4297-8add-aa68276000bd",
   "metadata": {},
   "outputs": [
    {
     "name": "stdout",
     "output_type": "stream",
     "text": [
      "부산시,금정구\n"
     ]
    }
   ],
   "source": [
    "l = ['부산시','금정구']\n",
    "print(','.join(l))"
   ]
  },
  {
   "cell_type": "code",
   "execution_count": 25,
   "id": "1542bf10-dee2-45a1-af08-561681321570",
   "metadata": {
    "scrolled": true
   },
   "outputs": [
    {
     "name": "stdin",
     "output_type": "stream",
     "text": [
      "비밀번호를 입력하세요:  number25\n"
     ]
    },
    {
     "name": "stdout",
     "output_type": "stream",
     "text": [
      "통과\n"
     ]
    }
   ],
   "source": [
    "a = input('비밀번호를 입력하세요: ')\n",
    "\n",
    "if a.isalnum() == True:\n",
    "    print(\"통과\")\n",
    "else:\n",
    "    print(\"비밀번호를 다시 입력하세요.\")"
   ]
  },
  {
   "cell_type": "code",
   "execution_count": null,
   "id": "62813487-2c89-4f64-b2ea-ed4035d40ae5",
   "metadata": {},
   "outputs": [],
   "source": []
  },
  {
   "cell_type": "code",
   "execution_count": null,
   "id": "3964843f-2059-4053-b9c9-a61c2bfc68fc",
   "metadata": {},
   "outputs": [],
   "source": []
  }
 ],
 "metadata": {
  "kernelspec": {
   "display_name": "Python 3 (ipykernel)",
   "language": "python",
   "name": "python3"
  },
  "language_info": {
   "codemirror_mode": {
    "name": "ipython",
    "version": 3
   },
   "file_extension": ".py",
   "mimetype": "text/x-python",
   "name": "python",
   "nbconvert_exporter": "python",
   "pygments_lexer": "ipython3",
   "version": "3.12.6"
  }
 },
 "nbformat": 4,
 "nbformat_minor": 5
}
