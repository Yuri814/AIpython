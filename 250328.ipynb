{
  "nbformat": 4,
  "nbformat_minor": 0,
  "metadata": {
    "colab": {
      "provenance": []
    },
    "kernelspec": {
      "name": "python3",
      "display_name": "Python 3"
    },
    "language_info": {
      "name": "python"
    }
  },
  "cells": [
    {
      "cell_type": "code",
      "execution_count": 3,
      "metadata": {
        "colab": {
          "base_uri": "https://localhost:8080/"
        },
        "id": "jIeYHsjwSX1i",
        "outputId": "0ced1c44-50e2-4872-8446-8c5259b2a964"
      },
      "outputs": [
        {
          "output_type": "stream",
          "name": "stdout",
          "text": [
            "첫 번째 정수를 입력하세요: 43\n",
            "두 번째 정수를 입력하세요: 86\n",
            "43은 86보다 작습니다.\n"
          ]
        }
      ],
      "source": [
        "#두 수 비교하기\n",
        "\n",
        "num1 = int(input(\"첫 번째 정수를 입력하세요: \"))\n",
        "num2 = int(input(\"두 번째 정수를 입력하세요: \"))\n",
        "\n",
        "if num1 > num2:\n",
        "  print(f\"{num1}은 {num2}보다 큽니다.\")\n",
        "elif num1 < num2:\n",
        "  print(f\"{num1}은 {num2}보다 작습니다.\")\n",
        "else:\n",
        "  print(f\"{num1}은 {num2}와 같습니다.\")"
      ]
    },
    {
      "cell_type": "code",
      "source": [
        "#세 수 중에서 큰 수 판별하기\n",
        "\n",
        "num1 = int(input(\"첫 번째 정수를 입력하세요: \"))\n",
        "num2 = int(input(\"두 번째 정수를 입력하세요: \"))\n",
        "num3 = int(input(\"세 번째 정수를 입력하세요: \"))\n",
        "max_num = num1\n",
        "\n",
        "if max_num < num2:\n",
        "  max_num = num2\n",
        "\n",
        "if max_num < num3:\n",
        "  max_num = num3\n",
        "\n",
        "print(f\"입력하신 세 수 {num1}, {num2}, {num3} 중에서 가장 큰 수는 {max_num}입니다.\")"
      ],
      "metadata": {
        "colab": {
          "base_uri": "https://localhost:8080/"
        },
        "id": "pHa6DR9tW52A",
        "outputId": "0889c6e6-afb8-4728-f0b9-a238a63e4027"
      },
      "execution_count": 17,
      "outputs": [
        {
          "output_type": "stream",
          "name": "stdout",
          "text": [
            "첫 번째 정수를 입력하세요: 1\n",
            "두 번째 정수를 입력하세요: 2\n",
            "세 번째 정수를 입력하세요: 3\n",
            "입력하신 세 수 1, 2, 3 중에서 가장 큰 수는 3입니다.\n"
          ]
        }
      ]
    },
    {
      "cell_type": "code",
      "source": [
        "#학점 판별하기\n",
        "\n",
        "score = int(input(\"시험점수를 입력하세요.\"))\n",
        "\n",
        "if 0 <= score <= 100:\n",
        "  if score >= 90:\n",
        "    print(f\"A 입니다.\")\n",
        "  elif score >= 80:\n",
        "    print(f\"B 입니다.\")\n",
        "  elif score >= 70:\n",
        "    print(f\"C 입니다.\")\n",
        "  elif score >= 60:\n",
        "    print(f\"D 입니다.\")\n",
        "  else:\n",
        "    print(f\"F 입니다.\")\n",
        "else:\n",
        "  print(f\"점수는 0부터 100사이의 값이어야 합니다.\")"
      ],
      "metadata": {
        "colab": {
          "base_uri": "https://localhost:8080/"
        },
        "id": "zsRzso-SckpP",
        "outputId": "9a327c86-6d37-4233-f8a1-227be0ebc454"
      },
      "execution_count": 14,
      "outputs": [
        {
          "output_type": "stream",
          "name": "stdout",
          "text": [
            "시험점수를 입력하세요.90\n",
            "A 입니다.\n"
          ]
        }
      ]
    },
    {
      "cell_type": "code",
      "source": [
        "#윤년 판별하기\n",
        "\n",
        "year = int(input(\"연도를 입력하세요.\"))\n",
        "\n",
        "if (year % 4 == 0 and year % 100 != 0) or (year % 400 == 0):\n",
        "  print(f\"{year}년은 윤년입니다.\")\n",
        "else:\n",
        "  print(f\"{year}년은 윤년이 아닙니다.\")"
      ],
      "metadata": {
        "colab": {
          "base_uri": "https://localhost:8080/"
        },
        "id": "DI5-PVZ0e6tl",
        "outputId": "7f046f77-8c7b-499e-a525-de5a61de755b"
      },
      "execution_count": 16,
      "outputs": [
        {
          "output_type": "stream",
          "name": "stdout",
          "text": [
            "연도를 입력하세요.2024\n",
            "2024년은 윤년입니다.\n"
          ]
        }
      ]
    },
    {
      "cell_type": "code",
      "source": [
        "for i in range(5):\n",
        "  print(\"반복!\", i)"
      ],
      "metadata": {
        "colab": {
          "base_uri": "https://localhost:8080/"
        },
        "id": "K4tFCBn-lAb9",
        "outputId": "e3d6fcca-f21e-470a-a363-57ed7c7606fb"
      },
      "execution_count": 18,
      "outputs": [
        {
          "output_type": "stream",
          "name": "stdout",
          "text": [
            "반복! 0\n",
            "반복! 1\n",
            "반복! 2\n",
            "반복! 3\n",
            "반복! 4\n"
          ]
        }
      ]
    },
    {
      "cell_type": "code",
      "source": [
        "#1~5를 만들기 위해 1을 더하는 방식\n",
        "for i in range(5):\n",
        "  print(\"반복!\",i+1)"
      ],
      "metadata": {
        "colab": {
          "base_uri": "https://localhost:8080/"
        },
        "id": "bZW2b_iXlJJ_",
        "outputId": "d063a3fa-4ac1-4381-bfd0-817e3c5ccd25"
      },
      "execution_count": 19,
      "outputs": [
        {
          "output_type": "stream",
          "name": "stdout",
          "text": [
            "반복! 1\n",
            "반복! 2\n",
            "반복! 3\n",
            "반복! 4\n",
            "반복! 5\n"
          ]
        }
      ]
    },
    {
      "cell_type": "code",
      "source": [
        "#1~5를 만들기 위해 시퀀스를 바꾸는 방식\n",
        "for i in range(1, 6):\n",
        "  print(i)"
      ],
      "metadata": {
        "colab": {
          "base_uri": "https://localhost:8080/"
        },
        "id": "Ypo__fkylWY_",
        "outputId": "bbe0edc3-4513-4782-8f07-6f07d934f112"
      },
      "execution_count": 23,
      "outputs": [
        {
          "output_type": "stream",
          "name": "stdout",
          "text": [
            "1\n",
            "2\n",
            "3\n",
            "4\n",
            "5\n"
          ]
        }
      ]
    },
    {
      "cell_type": "code",
      "source": [
        "#1~5를 만들기 위해 리스트를 사용하는 방식\n",
        "#데이터에서 중요함! 시험에 나옴!!!\n",
        "for i in [1,2,3,4,5]:\n",
        "  print(i)"
      ],
      "metadata": {
        "colab": {
          "base_uri": "https://localhost:8080/"
        },
        "id": "EbInXh75mLNf",
        "outputId": "623f02be-661d-405b-8088-07ed16b312af"
      },
      "execution_count": 26,
      "outputs": [
        {
          "output_type": "stream",
          "name": "stdout",
          "text": [
            "1\n",
            "2\n",
            "3\n",
            "4\n",
            "5\n"
          ]
        }
      ]
    },
    {
      "cell_type": "code",
      "source": [
        "count = 0 #start\n",
        "while count < 3: #end\n",
        "  print(\"반복중: \", count)\n",
        "  count += 1 #add"
      ],
      "metadata": {
        "colab": {
          "base_uri": "https://localhost:8080/"
        },
        "id": "JRJbaMh9mrS_",
        "outputId": "c72421ae-257c-4464-86dc-d12e64edb1a9"
      },
      "execution_count": 29,
      "outputs": [
        {
          "output_type": "stream",
          "name": "stdout",
          "text": [
            "반복중:  0\n",
            "반복중:  1\n",
            "반복중:  2\n"
          ]
        }
      ]
    },
    {
      "cell_type": "code",
      "source": [
        "# 문제 1: 1부터 N까지의 합 계산하기\n",
        "n_str = input(\"양의 정수 N을 입력하세요: \")\n",
        "n = int(n_str)\n",
        "\n",
        "if n <= 0:\n",
        "   print(\"N은 양의 정수여야 합니다.\")\n",
        "else:\n",
        "    total = 0\n",
        "    for i in range(1, n + 1):\n",
        "      total += i\n",
        "    print(f\"1부터 {n}까지의 합은: {total} 입니다.\")"
      ],
      "metadata": {
        "colab": {
          "base_uri": "https://localhost:8080/"
        },
        "id": "-_5butSqp0s_",
        "outputId": "f6b1fb6e-c453-4307-dee1-b03c6aaf4950"
      },
      "execution_count": 42,
      "outputs": [
        {
          "output_type": "stream",
          "name": "stdout",
          "text": [
            "양의 정수 N을 입력하세요: 10\n",
            "1부터 10까지의 합은: 55 입니다.\n"
          ]
        }
      ]
    },
    {
      "cell_type": "code",
      "source": [
        "#문제 4: 특정 조건까지 반복하기 (while 루프)\n",
        "count = 0\n",
        "print(\"0부터 9까지 출력:\")\n",
        "\n",
        "while count < 10:\n",
        "  print(count)\n",
        "  count += 1\n",
        "print(\"while 루프 종료\")"
      ],
      "metadata": {
        "colab": {
          "base_uri": "https://localhost:8080/"
        },
        "id": "tzxc7WUlqQ0-",
        "outputId": "eecd5998-df7a-44c9-b796-eaec6ffc90f9"
      },
      "execution_count": 43,
      "outputs": [
        {
          "output_type": "stream",
          "name": "stdout",
          "text": [
            "0부터 9까지 출력:\n",
            "0\n",
            "1\n",
            "2\n",
            "3\n",
            "4\n",
            "5\n",
            "6\n",
            "7\n",
            "8\n",
            "9\n",
            "while 루프 종료\n"
          ]
        }
      ]
    },
    {
      "cell_type": "code",
      "source": [
        "#문제 4: 특정 조건까지 반복하기 (for 구문)\n",
        "print(\"0부터 9까지 출력: \")\n",
        "for i in range(0,10):\n",
        "  print(i)\n",
        "print(\"for 루프 종료\")"
      ],
      "metadata": {
        "colab": {
          "base_uri": "https://localhost:8080/"
        },
        "id": "Km4pxEkUsOe-",
        "outputId": "e16fb050-d135-44eb-b281-e10f75c121aa"
      },
      "execution_count": 48,
      "outputs": [
        {
          "output_type": "stream",
          "name": "stdout",
          "text": [
            "0부터 9까지 출력: \n",
            "0\n",
            "1\n",
            "2\n",
            "3\n",
            "4\n",
            "5\n",
            "6\n",
            "7\n",
            "8\n",
            "9\n",
            "for 루프 종료\n"
          ]
        }
      ]
    },
    {
      "cell_type": "code",
      "source": [],
      "metadata": {
        "id": "IUDyo7pBsaAe"
      },
      "execution_count": null,
      "outputs": []
    }
  ]
}